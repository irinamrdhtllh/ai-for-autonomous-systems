{
 "cells": [
  {
   "cell_type": "code",
   "execution_count": 1,
   "id": "efd8e86e",
   "metadata": {},
   "outputs": [],
   "source": [
    "import numpy as np"
   ]
  },
  {
   "cell_type": "markdown",
   "id": "fc1313c3",
   "metadata": {},
   "source": [
    "## Fully-Connected Layer"
   ]
  },
  {
   "cell_type": "markdown",
   "id": "dca22f88",
   "metadata": {},
   "source": [
    "### Initialize weights and bias"
   ]
  },
  {
   "cell_type": "code",
   "execution_count": 2,
   "id": "c40e2bf7",
   "metadata": {},
   "outputs": [],
   "source": [
    "x = np.array([[1.0], [2.0]])\n",
    "y_true = np.array([[1.0]])\n",
    "\n",
    "W = np.array([[0.1, 0.2]])\n",
    "b = np.array([[0.5]])"
   ]
  },
  {
   "cell_type": "markdown",
   "id": "2dfbfa44",
   "metadata": {},
   "source": [
    "### Forward pass"
   ]
  },
  {
   "cell_type": "code",
   "execution_count": 3,
   "id": "ee61dc2b",
   "metadata": {},
   "outputs": [
    {
     "name": "stdout",
     "output_type": "stream",
     "text": [
      "Output (y):\n",
      " [[0.73105858]]\n"
     ]
    }
   ],
   "source": [
    "z = W @ x + b\n",
    "y_pred = 1 / (1 + np.exp(-z))\n",
    "\n",
    "print(\"Output (y):\\n\", y_pred)"
   ]
  },
  {
   "cell_type": "markdown",
   "id": "af565866",
   "metadata": {},
   "source": [
    "### Calculate loss"
   ]
  },
  {
   "cell_type": "code",
   "execution_count": 4,
   "id": "987366c3",
   "metadata": {},
   "outputs": [
    {
     "name": "stdout",
     "output_type": "stream",
     "text": [
      "Loss (L):\n",
      " 0.07232948812851325\n"
     ]
    }
   ],
   "source": [
    "# Mean squared error\n",
    "loss = np.mean((y_true - y_pred) ** 2)\n",
    "\n",
    "print(\"Loss (L):\\n\", loss)"
   ]
  },
  {
   "cell_type": "markdown",
   "id": "ff05c7d6",
   "metadata": {},
   "source": [
    "### Backward pass"
   ]
  },
  {
   "cell_type": "code",
   "execution_count": 5,
   "id": "2f512e94",
   "metadata": {},
   "outputs": [
    {
     "name": "stdout",
     "output_type": "stream",
     "text": [
      "Gradient wrt weights (dL/dW):\n",
      " [[-0.10575419 -0.21150837]]\n",
      "\n",
      "Gradient wrt bias (dL/db):\n",
      " [[-0.10575419]]\n",
      "\n",
      "Gradient wrt input (dL/dx):\n",
      " [[-0.01057542]\n",
      " [-0.02115084]]\n"
     ]
    }
   ],
   "source": [
    "dL_dy = - 2 * (y_true - y_pred)\n",
    "dy_dz = y_pred * (1 - y_pred)  # sigmoid derivative\n",
    "dL_dz = dL_dy * dy_dz\n",
    "dL_dW = dL_dz @ x.T\n",
    "dL_db = dL_dz\n",
    "dL_dx = W.T @ dL_dz\n",
    "\n",
    "print(\"Gradient wrt weights (dL/dW):\\n\", dL_dW)\n",
    "print(\"\\nGradient wrt bias (dL/db):\\n\", dL_db)\n",
    "print(\"\\nGradient wrt input (dL/dx):\\n\", dL_dx)"
   ]
  },
  {
   "cell_type": "markdown",
   "id": "060f6de1",
   "metadata": {},
   "source": [
    "### Update the weights and bias using the gradient"
   ]
  },
  {
   "cell_type": "code",
   "execution_count": 6,
   "id": "34fddfc7",
   "metadata": {},
   "outputs": [
    {
     "name": "stdout",
     "output_type": "stream",
     "text": [
      "Updated weights (W):\n",
      " [[0.10105754 0.20211508]]\n",
      "Updated bias (b):\n",
      " [[0.50105754]]\n"
     ]
    }
   ],
   "source": [
    "lr = 0.01\n",
    "W -= lr * dL_dW\n",
    "b -= lr * dL_db\n",
    "\n",
    "print(\"Updated weights (W):\\n\", W)\n",
    "print(\"Updated bias (b):\\n\", b)"
   ]
  },
  {
   "cell_type": "markdown",
   "id": "5c7bfce2",
   "metadata": {},
   "source": [
    "### Training loop"
   ]
  },
  {
   "cell_type": "code",
   "execution_count": 7,
   "id": "b4ed4135",
   "metadata": {},
   "outputs": [
    {
     "name": "stdout",
     "output_type": "stream",
     "text": [
      "Epoch 1, Loss = 0.1073\n",
      "Updated W: [[0.10456405 0.20384734]]  Updated b: [[0.50575205]]\n",
      "Epoch 2, Loss = 0.1056\n",
      "Updated W: [[0.10906857 0.20764446]]  Updated b: [[0.51143431]]\n",
      "Epoch 3, Loss = 0.1040\n",
      "Updated W: [[0.11351457 0.21139234]]  Updated b: [[0.51704801]]\n",
      "Epoch 4, Loss = 0.1023\n",
      "Updated W: [[0.11790308 0.21509192]]  Updated b: [[0.52259436]]\n",
      "Epoch 5, Loss = 0.1007\n",
      "Updated W: [[0.12223509 0.21874413]]  Updated b: [[0.52807453]]\n"
     ]
    }
   ],
   "source": [
    "x = np.array([[1.0], [2.0]])\n",
    "y_true = np.array([[1.0]])\n",
    "\n",
    "W = np.array([[0.1, 0.2]])\n",
    "b = np.array([[0.5]])\n",
    "\n",
    "lr = 0.01\n",
    "\n",
    "# Training loop\n",
    "for epoch in range(5):\n",
    "    # Forward pass\n",
    "    z = x @ W + b\n",
    "    y_pred = 1 / (1 + np.exp(-z))  # Sigmoid activation function\n",
    "    \n",
    "    # Loss (mean-squared error)\n",
    "    loss = np.mean((y_true - y_pred) ** 2)\n",
    "\n",
    "    # Backward pass\n",
    "    dL_dy = - 2 * (y_true - y_pred)  # Mean-squared error derivation\n",
    "    dy_dz = y_pred * (1 - y_pred)  # Sigmoid derivation\n",
    "    dL_dz = dL_dy * dy_dz\n",
    "\n",
    "    dL_dW = x.T @ dL_dz\n",
    "    dL_db = np.sum(dL_dz)\n",
    "\n",
    "    # Update step\n",
    "    W -= lr * dL_dW\n",
    "    b -= lr * dL_db\n",
    "    \n",
    "    print(f\"Epoch {epoch+1}, Loss = {loss:.4f}\")\n",
    "    print(\"Updated W:\", W, \" Updated b:\", b)"
   ]
  },
  {
   "cell_type": "markdown",
   "id": "494de63a",
   "metadata": {},
   "source": [
    "## Fully-Connected Network (FCN)"
   ]
  },
  {
   "cell_type": "markdown",
   "id": "89e04ba9",
   "metadata": {},
   "source": [
    "### Example: FCN for point classification"
   ]
  },
  {
   "cell_type": "code",
   "execution_count": 8,
   "id": "3f6c69ee",
   "metadata": {},
   "outputs": [],
   "source": [
    "# pip install nnfs\n",
    "import nnfs\n",
    "from nnfs.datasets import spiral_data\n",
    "\n",
    "# pip install matplotlib\n",
    "import matplotlib.pyplot as plt"
   ]
  },
  {
   "cell_type": "code",
   "execution_count": 9,
   "id": "bf938ae2",
   "metadata": {},
   "outputs": [
    {
     "data": {
      "image/png": "[encoded data removed]",
      "text/plain": [
       "<Figure size 500x500 with 1 Axes>"
      ]
     },
     "metadata": {},
     "output_type": "display_data"
    }
   ],
   "source": [
    "x_train, y_train = spiral_data(samples=1000, classes=3)\n",
    "\n",
    "plt.figure(figsize=(5, 5))\n",
    "plt.scatter(x_train[:, 0], x_train[:, 1], c=y_train, cmap=\"brg\", s=10)\n",
    "plt.title(\"Spiral Dataset\")\n",
    "plt.xlabel(\"x1\")\n",
    "plt.ylabel(\"x2\")\n",
    "plt.show()"
   ]
  },
  {
   "cell_type": "code",
   "execution_count": 10,
   "id": "92e2af0f",
   "metadata": {},
   "outputs": [],
   "source": [
    "# pip install torch\n",
    "import torch\n",
    "import torch.nn as nn\n",
    "import torch.optim as optim"
   ]
  },
  {
   "cell_type": "code",
   "execution_count": 11,
   "id": "255a0754",
   "metadata": {},
   "outputs": [],
   "source": [
    "# Convert data to tensors\n",
    "x_train = torch.tensor(x_train, dtype=torch.float32)\n",
    "y_train = torch.tensor(y_train, dtype=torch.long)"
   ]
  },
  {
   "cell_type": "code",
   "execution_count": 12,
   "id": "cc49d068",
   "metadata": {},
   "outputs": [
    {
     "name": "stdout",
     "output_type": "stream",
     "text": [
      "Epoch 1, Loss = 1.1023\n",
      "Epoch 2, Loss = 1.0866\n",
      "Epoch 3, Loss = 1.0853\n",
      "Epoch 4, Loss = 1.0752\n",
      "Epoch 5, Loss = 1.0687\n",
      "Epoch 6, Loss = 1.0699\n",
      "Epoch 7, Loss = 1.0655\n",
      "Epoch 8, Loss = 1.0597\n",
      "Epoch 9, Loss = 1.0562\n",
      "Epoch 10, Loss = 1.0530\n",
      "Epoch 11, Loss = 1.0484\n",
      "Epoch 12, Loss = 1.0426\n",
      "Epoch 13, Loss = 1.0370\n",
      "Epoch 14, Loss = 1.0319\n",
      "Epoch 15, Loss = 1.0265\n",
      "Epoch 16, Loss = 1.0205\n",
      "Epoch 17, Loss = 1.0138\n",
      "Epoch 18, Loss = 1.0068\n",
      "Epoch 19, Loss = 0.9994\n",
      "Epoch 20, Loss = 0.9916\n",
      "Epoch 21, Loss = 0.9836\n",
      "Epoch 22, Loss = 0.9754\n",
      "Epoch 23, Loss = 0.9673\n",
      "Epoch 24, Loss = 0.9594\n",
      "Epoch 25, Loss = 0.9513\n",
      "Epoch 26, Loss = 0.9432\n",
      "Epoch 27, Loss = 0.9352\n",
      "Epoch 28, Loss = 0.9267\n",
      "Epoch 29, Loss = 0.9176\n",
      "Epoch 30, Loss = 0.9080\n",
      "Epoch 31, Loss = 0.8979\n",
      "Epoch 32, Loss = 0.8868\n",
      "Epoch 33, Loss = 0.8750\n",
      "Epoch 34, Loss = 0.8626\n",
      "Epoch 35, Loss = 0.8497\n",
      "Epoch 36, Loss = 0.8406\n",
      "Epoch 37, Loss = 0.8403\n",
      "Epoch 38, Loss = 0.8185\n",
      "Epoch 39, Loss = 0.8028\n",
      "Epoch 40, Loss = 0.7983\n",
      "Epoch 41, Loss = 0.7737\n",
      "Epoch 42, Loss = 0.7717\n",
      "Epoch 43, Loss = 0.7480\n",
      "Epoch 44, Loss = 0.7425\n",
      "Epoch 45, Loss = 0.7234\n",
      "Epoch 46, Loss = 0.7100\n",
      "Epoch 47, Loss = 0.6978\n",
      "Epoch 48, Loss = 0.6775\n",
      "Epoch 49, Loss = 0.6698\n",
      "Epoch 50, Loss = 0.6493\n",
      "Epoch 51, Loss = 0.6379\n",
      "Epoch 52, Loss = 0.6250\n",
      "Epoch 53, Loss = 0.6069\n",
      "Epoch 54, Loss = 0.5997\n",
      "Epoch 55, Loss = 0.5886\n",
      "Epoch 56, Loss = 0.5841\n",
      "Epoch 57, Loss = 0.5723\n",
      "Epoch 58, Loss = 0.5497\n",
      "Epoch 59, Loss = 0.5516\n",
      "Epoch 60, Loss = 0.5388\n",
      "Epoch 61, Loss = 0.5228\n",
      "Epoch 62, Loss = 0.5257\n",
      "Epoch 63, Loss = 0.5070\n",
      "Epoch 64, Loss = 0.5030\n",
      "Epoch 65, Loss = 0.4975\n",
      "Epoch 66, Loss = 0.4833\n",
      "Epoch 67, Loss = 0.4828\n",
      "Epoch 68, Loss = 0.4710\n",
      "Epoch 69, Loss = 0.4666\n",
      "Epoch 70, Loss = 0.4605\n",
      "Epoch 71, Loss = 0.4515\n",
      "Epoch 72, Loss = 0.4497\n",
      "Epoch 73, Loss = 0.4397\n",
      "Epoch 74, Loss = 0.4359\n",
      "Epoch 75, Loss = 0.4313\n",
      "Epoch 76, Loss = 0.4234\n",
      "Epoch 77, Loss = 0.4212\n",
      "Epoch 78, Loss = 0.4141\n",
      "Epoch 79, Loss = 0.4099\n",
      "Epoch 80, Loss = 0.4063\n",
      "Epoch 81, Loss = 0.4002\n",
      "Epoch 82, Loss = 0.3982\n",
      "Epoch 83, Loss = 0.3961\n",
      "Epoch 84, Loss = 0.4002\n",
      "Epoch 85, Loss = 0.4187\n",
      "Epoch 86, Loss = 0.4257\n",
      "Epoch 87, Loss = 0.3882\n",
      "Epoch 88, Loss = 0.3848\n",
      "Epoch 89, Loss = 0.4034\n",
      "Epoch 90, Loss = 0.3723\n",
      "Epoch 91, Loss = 0.3822\n",
      "Epoch 92, Loss = 0.3785\n",
      "Epoch 93, Loss = 0.3633\n",
      "Epoch 94, Loss = 0.3769\n",
      "Epoch 95, Loss = 0.3587\n",
      "Epoch 96, Loss = 0.3636\n",
      "Epoch 97, Loss = 0.3608\n",
      "Epoch 98, Loss = 0.3511\n",
      "Epoch 99, Loss = 0.3584\n",
      "Epoch 100, Loss = 0.3461\n"
     ]
    }
   ],
   "source": [
    "# FCN model (3 hidden layers)\n",
    "model = nn.Sequential(\n",
    "    nn.Linear(in_features=2, out_features=128),\n",
    "    nn.ReLU(),\n",
    "    nn.Linear(in_features=128, out_features=128),\n",
    "    nn.ReLU(),\n",
    "    nn.Linear(in_features=128, out_features=3),\n",
    ")\n",
    "\n",
    "criterion = nn.CrossEntropyLoss()\n",
    "optimizer = optim.Adam(model.parameters(), lr=0.01)\n",
    "\n",
    "for epoch in range(100):\n",
    "    optimizer.zero_grad()\n",
    "\n",
    "    # Forward pass\n",
    "    y_pred = model(x_train)\n",
    "    loss = criterion(y_pred, y_train)\n",
    "\n",
    "    # Backward pass\n",
    "    loss.backward()\n",
    "\n",
    "    # Update the weights and biases\n",
    "    optimizer.step()\n",
    "\n",
    "    print(f\"Epoch {epoch+1}, Loss = {loss:.4f}\")"
   ]
  },
  {
   "cell_type": "markdown",
   "id": "39f4a5c3",
   "metadata": {},
   "source": [
    "### Test the model"
   ]
  },
  {
   "cell_type": "code",
   "execution_count": 13,
   "id": "bc4d8578",
   "metadata": {},
   "outputs": [
    {
     "data": {
      "image/png": "[encoded data removed]",
      "text/plain": [
       "<Figure size 500x500 with 1 Axes>"
      ]
     },
     "metadata": {},
     "output_type": "display_data"
    }
   ],
   "source": [
    "x_test, y_test = spiral_data(samples=100, classes=3)\n",
    "\n",
    "plt.figure(figsize=(5, 5))\n",
    "plt.scatter(x_test[:, 0], x_test[:, 1], c=y_test, cmap=\"brg\", s=10)\n",
    "plt.title(\"Spiral Dataset\")\n",
    "plt.xlabel(\"x1\")\n",
    "plt.ylabel(\"x2\")\n",
    "plt.show()"
   ]
  },
  {
   "cell_type": "code",
   "execution_count": 14,
   "id": "e69e8d17",
   "metadata": {},
   "outputs": [
    {
     "name": "stdout",
     "output_type": "stream",
     "text": [
      "\n",
      "Final Test Accuracy: 0.860\n"
     ]
    }
   ],
   "source": [
    "# Convert data to tensors\n",
    "x_test = torch.tensor(x_test, dtype=torch.float32)\n",
    "y_test = torch.tensor(y_test, dtype=torch.long)\n",
    "\n",
    "with torch.no_grad():\n",
    "    y_pred = model(x_test)\n",
    "    pred_test = torch.argmax(y_pred, axis=1)\n",
    "    test_acc = (pred_test == y_test).float().mean()\n",
    "\n",
    "print(f\"\\nFinal Test Accuracy: {test_acc:.3f}\")"
   ]
  },
  {
   "cell_type": "markdown",
   "id": "869d32fe",
   "metadata": {},
   "source": [
    "### Example: FCN for image classification"
   ]
  },
  {
   "cell_type": "code",
   "execution_count": 15,
   "id": "9240db31",
   "metadata": {},
   "outputs": [],
   "source": [
    "from torchvision import datasets, transforms"
   ]
  },
  {
   "cell_type": "code",
   "execution_count": null,
   "id": "a1e15982",
   "metadata": {},
   "outputs": [],
   "source": [
    "transform = transforms.ToTensor()\n",
    "\n",
    "train_data = datasets.MNIST(root=\"./data\", train=True, download=True, transform=transform)\n",
    "train_loader = torch.utils.data.DataLoader(train_data, batch_size=1, shuffle=True)"
   ]
  },
  {
   "cell_type": "code",
   "execution_count": 17,
   "id": "58157cf5",
   "metadata": {},
   "outputs": [
    {
     "name": "stdout",
     "output_type": "stream",
     "text": [
      "Image shape: torch.Size([1, 28, 28])\n",
      "Label: 5\n"
     ]
    }
   ],
   "source": [
    "image, label = train_data[0]\n",
    "\n",
    "print(\"Image shape:\", image.shape)\n",
    "print(\"Label:\", label)\n"
   ]
  },
  {
   "cell_type": "code",
   "execution_count": 18,
   "id": "a7e3db15",
   "metadata": {},
   "outputs": [
    {
     "data": {
      "image/png": "[encoded data removed]",
      "text/plain": [
       "<Figure size 640x480 with 1 Axes>"
      ]
     },
     "metadata": {},
     "output_type": "display_data"
    }
   ],
   "source": [
    "plt.imshow(image.squeeze(), cmap=\"gray\")\n",
    "plt.title(f\"Label: {label}\")\n",
    "plt.axis(\"off\")\n",
    "plt.show()"
   ]
  },
  {
   "cell_type": "code",
   "execution_count": 19,
   "id": "f57636c2",
   "metadata": {},
   "outputs": [
    {
     "name": "stdout",
     "output_type": "stream",
     "text": [
      "Epoch 1, Loss = 0.2758\n",
      "Epoch 2, Loss = 0.1879\n",
      "Epoch 3, Loss = 0.1697\n",
      "Epoch 4, Loss = 0.1638\n",
      "Epoch 5, Loss = 0.1492\n",
      "Epoch 6, Loss = 0.1377\n",
      "Epoch 7, Loss = 0.1360\n",
      "Epoch 8, Loss = 0.1264\n",
      "Epoch 9, Loss = 0.1296\n",
      "Epoch 10, Loss = 0.1230\n"
     ]
    }
   ],
   "source": [
    "device = \"cuda\" if torch.cuda.is_available() else \"cpu\"\n",
    "\n",
    "model = nn.Sequential(\n",
    "    nn.Linear(28*28, 512),\n",
    "    nn.ReLU(),\n",
    "    nn.Linear(512, 512),\n",
    "    nn.ReLU(),\n",
    "    nn.Linear(512, 10)\n",
    ")\n",
    "model = model.to(device)\n",
    "\n",
    "criterion = nn.CrossEntropyLoss()\n",
    "optimizer = optim.Adam(model.parameters(), lr=0.001)\n",
    "\n",
    "for epoch in range(10):\n",
    "    total_loss = 0\n",
    "\n",
    "    for images, labels in train_loader:\n",
    "        images, labels = images.to(device), labels.to(device)\n",
    "        images = images.view(images.size(0), -1)\n",
    "\n",
    "        optimizer.zero_grad()\n",
    "\n",
    "        # Forward pass\n",
    "        preds = model(images)\n",
    "        loss = criterion(preds, labels)\n",
    "\n",
    "        # Backward pass\n",
    "        loss.backward()\n",
    "\n",
    "        # Update the weights and biases\n",
    "        optimizer.step()\n",
    "\n",
    "        total_loss += loss.item()\n",
    "    \n",
    "    avg_loss = total_loss / len(train_loader)\n",
    "\n",
    "    print(f\"Epoch {epoch+1}, Loss = {avg_loss:.4f}\")"
   ]
  },
  {
   "cell_type": "code",
   "execution_count": 22,
   "id": "bdb3aed2",
   "metadata": {},
   "outputs": [
    {
     "name": "stdout",
     "output_type": "stream",
     "text": [
      "\n",
      "Final Test Accuracy: 95.8100\n"
     ]
    }
   ],
   "source": [
    "test_data = datasets.MNIST(root=\"./data\", train=False, download=True, transform=transform)\n",
    "test_loader = torch.utils.data.DataLoader(test_data, batch_size=8, shuffle=False)\n",
    "\n",
    "correct = 0\n",
    "total = 0\n",
    "test_loss = 0\n",
    "\n",
    "model.eval()\n",
    "with torch.no_grad():\n",
    "    for images, labels in test_loader:\n",
    "        images, labels = images.to(device), labels.to(device)\n",
    "        images = images.view(images.size(0), -1)\n",
    "\n",
    "        outputs = model(images)\n",
    "        _, preds = torch.max(outputs, 1)\n",
    "\n",
    "        correct += (preds == labels).sum().item()\n",
    "        total += labels.size(0)\n",
    "\n",
    "test_acc = (correct / total) * 100\n",
    "\n",
    "print(f\"\\nFinal Test Accuracy: {test_acc:.4f}\")"
   ]
  },
  {
   "cell_type": "markdown",
   "id": "38500367",
   "metadata": {},
   "source": [
    "## Convolutional Layer"
   ]
  },
  {
   "cell_type": "markdown",
   "id": "5633dbc5",
   "metadata": {},
   "source": [
    "### Initialize input, weights and bias"
   ]
  },
  {
   "cell_type": "code",
   "execution_count": 23,
   "id": "520d77da",
   "metadata": {},
   "outputs": [],
   "source": [
    "X = np.random.randint(0, 255, (28, 28))\n",
    "\n",
    "W = np.array([\n",
    "    [0.2, -0.5],\n",
    "    [0.3, 0.1]\n",
    "])\n",
    "b = 0.0"
   ]
  },
  {
   "cell_type": "markdown",
   "id": "0a2ebbaf",
   "metadata": {},
   "source": [
    "### Forward pass"
   ]
  },
  {
   "cell_type": "code",
   "execution_count": 24,
   "id": "a0479cf8",
   "metadata": {},
   "outputs": [
    {
     "name": "stdout",
     "output_type": "stream",
     "text": [
      "Output (Z):\n",
      " [[-4.510e+01  3.600e+00  2.570e+01  3.550e+01 -5.460e+01 -1.790e+01\n",
      "   1.208e+02  3.380e+01  6.910e+01  7.400e+00 -3.960e+01 -3.090e+01\n",
      "   2.990e+01 -5.700e+01  8.100e+00 -9.200e+00  7.960e+01 -3.480e+01\n",
      "  -1.300e+01  5.610e+01  2.800e+00  7.240e+01  4.200e+01  2.290e+01\n",
      "  -2.470e+01  8.000e+01  7.750e+01]\n",
      " [ 2.290e+01 -2.040e+01 -1.550e+01  8.850e+01  1.820e+01 -8.410e+01\n",
      "  -6.070e+01 -4.210e+01  1.400e+00  8.850e+01 -3.770e+01 -1.440e+01\n",
      "   5.360e+01 -7.360e+01  9.100e+01 -9.980e+01  4.820e+01 -5.250e+01\n",
      "   1.008e+02 -1.610e+01  3.920e+01 -1.820e+01  2.610e+01 -3.190e+01\n",
      "  -1.780e+01 -3.080e+01  5.750e+01]\n",
      " [-5.350e+01  3.400e+00  2.800e+01 -6.100e+01  9.800e+01  6.140e+01\n",
      "   1.140e+01  4.470e+01 -3.710e+01  6.830e+01  3.990e+01 -3.000e+01\n",
      "   4.590e+01 -3.140e+01  5.530e+01  7.600e+01  8.700e+00 -2.770e+01\n",
      "  -4.440e+01  5.850e+01 -5.290e+01  2.070e+01  1.550e+01  8.970e+01\n",
      "   9.600e+00 -7.300e+00  4.290e+01]\n",
      " [ 5.350e+01 -2.750e+01  3.870e+01 -8.550e+01 -1.340e+01 -2.940e+01\n",
      "  -1.380e+01 -3.170e+01  3.750e+01  1.210e+01  1.069e+02 -4.790e+01\n",
      "   4.430e+01  1.750e+01 -6.020e+01  1.157e+02  1.660e+01  8.530e+01\n",
      "  -8.680e+01  7.650e+01 -5.640e+01 -1.110e+01 -5.200e+00 -1.370e+01\n",
      "  -5.700e+01  3.310e+01  1.480e+01]\n",
      " [ 8.250e+01 -1.470e+01  7.290e+01  7.230e+01  7.920e+01  2.790e+01\n",
      "   2.980e+01  6.200e+00 -4.680e+01 -5.330e+01  4.970e+01  4.200e+01\n",
      "   2.690e+01  1.500e+00 -6.900e+01 -3.550e+01  1.300e+00  9.410e+01\n",
      "   4.030e+01  3.070e+01  7.350e+01 -2.280e+01  5.950e+01  1.100e+00\n",
      "   6.100e+01 -5.570e+01 -3.180e+01]\n",
      " [ 7.910e+01  4.800e+00 -3.940e+01 -3.000e-01 -2.620e+01  1.340e+01\n",
      "  -1.000e+00  4.870e+01  7.880e+01  1.610e+01  4.210e+01  9.500e+00\n",
      "   4.770e+01  1.800e+01  1.110e+01  8.990e+01 -1.780e+01  6.200e+00\n",
      "   8.390e+01 -3.720e+01  2.040e+01  5.050e+01 -9.800e+00  5.540e+01\n",
      "  -3.750e+01  1.379e+02  4.040e+01]\n",
      " [-8.500e+00  3.990e+01  1.880e+01 -4.600e+00  2.430e+01  4.970e+01\n",
      "   8.050e+01  4.900e+00 -1.520e+01 -4.760e+01  1.700e+00 -5.100e+01\n",
      "   9.020e+01  1.030e+01 -8.650e+01 -4.630e+01 -4.840e+01  5.920e+01\n",
      "  -2.700e+01 -2.960e+01  1.840e+01 -4.300e+01 -5.040e+01 -4.300e+00\n",
      "  -8.750e+01 -3.780e+01  7.330e+01]\n",
      " [-1.930e+01  1.320e+01  7.100e+00  1.430e+01 -7.760e+01 -1.060e+01\n",
      "  -1.670e+01  1.770e+01  1.328e+02  6.120e+01 -2.910e+01 -2.870e+01\n",
      "  -1.140e+01  5.540e+01  3.270e+01  3.740e+01 -3.280e+01  1.180e+01\n",
      "   2.180e+01  8.140e+01  4.010e+01  3.890e+01  6.660e+01  2.870e+01\n",
      "   4.900e+00  7.070e+01 -1.550e+01]\n",
      " [-5.660e+01  1.205e+02 -2.100e+01  3.380e+01 -6.880e+01  1.360e+01\n",
      "  -5.000e-01 -1.500e+00  2.600e+00  9.940e+01  2.850e+01  7.100e+00\n",
      "   1.650e+01  4.350e+01  4.280e+01 -4.600e+00  8.090e+01  1.920e+01\n",
      "  -1.690e+01  3.360e+01  4.170e+01 -4.610e+01  3.410e+01 -3.030e+01\n",
      "  -7.980e+01  4.980e+01 -1.870e+01]\n",
      " [-4.680e+01  7.670e+01  7.850e+01  3.270e+01  6.360e+01 -3.520e+01\n",
      "   2.530e+01  1.370e+01 -1.820e+01  1.029e+02 -7.200e+01  8.830e+01\n",
      "  -7.820e+01 -5.400e+00  6.220e+01  4.000e+00 -4.860e+01  2.260e+01\n",
      "   2.290e+01  1.630e+01 -3.880e+01  5.280e+01  5.780e+01  6.770e+01\n",
      "   1.480e+01 -2.150e+01  4.080e+01]\n",
      " [ 4.620e+01 -4.230e+01 -2.990e+01  2.320e+01  5.020e+01 -2.200e+01\n",
      "   2.440e+01  8.900e+01 -9.450e+01  7.050e+01 -1.810e+01  7.750e+01\n",
      "   9.250e+01 -6.450e+01 -3.000e-01  8.650e+01 -3.410e+01 -4.700e+01\n",
      "   1.130e+02  6.600e+00  3.220e+01  2.940e+01  1.300e+01 -6.260e+01\n",
      "   5.010e+01  6.180e+01 -7.480e+01]\n",
      " [-3.350e+01  1.170e+02  3.860e+01  2.510e+01  1.050e+01  9.900e+00\n",
      "  -4.000e+00  7.780e+01 -7.560e+01  3.500e+01 -3.340e+01 -4.900e+00\n",
      "   4.900e+01  5.020e+01 -4.000e-01  9.060e+01  1.290e+01 -2.670e+01\n",
      "  -9.500e+00  2.600e+01 -4.980e+01 -1.910e+01  3.260e+01  1.064e+02\n",
      "  -2.290e+01  4.270e+01 -3.330e+01]\n",
      " [-3.940e+01 -7.700e+00 -3.580e+01 -3.100e+00  3.020e+01 -1.770e+01\n",
      "   3.230e+01  7.730e+01  7.920e+01 -5.310e+01 -2.800e+00 -1.880e+01\n",
      "   3.640e+01 -5.800e+00  1.140e+01  2.040e+01 -1.000e+00  4.480e+01\n",
      "   7.950e+01 -2.250e+01  9.520e+01  3.100e+00 -9.620e+01 -2.750e+01\n",
      "   1.243e+02  7.220e+01 -7.290e+01]\n",
      " [-1.780e+01  6.880e+01 -2.420e+01  2.890e+01 -6.700e+00  5.810e+01\n",
      "  -8.820e+01 -2.100e+01  1.139e+02  6.030e+01  5.690e+01 -1.270e+01\n",
      "   1.710e+01 -4.300e+00  8.000e+00  1.170e+01  2.400e+00  6.000e+00\n",
      "  -1.310e+01  2.040e+01  1.400e+01  4.440e+01 -1.720e+01 -5.560e+01\n",
      "  -1.090e+01  4.240e+01  9.940e+01]\n",
      " [ 6.580e+01  2.930e+01  3.110e+01  5.170e+01  3.730e+01  4.770e+01\n",
      "   2.920e+01 -3.690e+01 -4.420e+01  1.180e+01  1.620e+01  6.040e+01\n",
      "   7.200e+00  4.490e+01 -8.550e+01  7.510e+01 -1.630e+01  2.440e+01\n",
      "   1.000e-01 -2.720e+01  5.590e+01  5.620e+01 -1.100e+00  1.370e+01\n",
      "  -2.670e+01 -5.120e+01 -2.270e+01]\n",
      " [ 8.490e+01 -5.120e+01 -1.000e-01  1.090e+01  8.580e+01  3.380e+01\n",
      "  -2.040e+01  1.043e+02 -1.630e+01 -1.220e+01 -2.850e+01  2.300e+00\n",
      "   6.510e+01  3.610e+01 -6.320e+01  6.720e+01 -4.670e+01  4.850e+01\n",
      "  -3.130e+01  1.430e+01 -8.670e+01  6.280e+01 -5.580e+01  1.072e+02\n",
      "   5.440e+01 -1.840e+01  1.080e+01]\n",
      " [ 2.080e+01  2.110e+01 -2.040e+01 -2.060e+01 -3.350e+01  2.000e+01\n",
      "  -5.490e+01  4.920e+01 -8.040e+01  5.550e+01 -5.700e+00 -6.220e+01\n",
      "   6.390e+01  5.120e+01 -6.600e+00  7.200e+00  6.600e+01  5.180e+01\n",
      "  -3.100e+00  7.030e+01  3.280e+01  1.500e+00 -4.700e+00  6.540e+01\n",
      "  -4.640e+01  2.890e+01 -1.860e+01]\n",
      " [ 3.150e+01 -1.330e+01  3.830e+01  6.580e+01  6.930e+01  5.370e+01\n",
      "  -6.390e+01  8.630e+01  8.500e+01  1.380e+01 -2.300e+01 -3.980e+01\n",
      "   4.430e+01 -2.950e+01 -8.100e+00  3.510e+01 -2.930e+01  1.234e+02\n",
      "   1.730e+01 -1.980e+01  5.900e+01 -1.062e+02 -2.600e+01  1.166e+02\n",
      "   8.250e+01 -1.670e+01  4.510e+01]\n",
      " [-3.160e+01 -1.340e+01 -2.690e+01 -1.480e+01 -3.710e+01  6.000e+01\n",
      "   3.140e+01 -7.860e+01  5.230e+01  1.082e+02  5.500e+00  7.800e+00\n",
      "   6.370e+01 -1.710e+01  9.340e+01 -2.610e+01 -5.210e+01 -4.550e+01\n",
      "   7.340e+01 -3.630e+01  4.840e+01 -2.310e+01 -3.200e+00  2.030e+01\n",
      "   2.880e+01 -2.180e+01  8.200e+00]\n",
      " [ 8.050e+01  3.890e+01  3.330e+01 -2.600e+01 -7.600e+00 -2.230e+01\n",
      "   9.730e+01 -2.500e+00 -7.070e+01  3.230e+01 -4.300e+00  1.300e+00\n",
      "   4.280e+01 -7.390e+01 -6.000e-01  5.060e+01  8.300e+00 -5.800e+01\n",
      "   1.900e+00  6.250e+01  1.820e+01 -7.870e+01 -3.180e+01 -3.850e+01\n",
      "  -8.500e+00  8.900e+01  5.530e+01]\n",
      " [ 8.400e+00  2.170e+01  8.740e+01  1.600e+00 -1.730e+01  5.900e+00\n",
      "   2.150e+01  1.031e+02  5.700e+00 -2.700e+01  1.170e+01 -4.490e+01\n",
      "   3.860e+01  2.800e+01  7.470e+01 -1.850e+01  7.600e+01  4.450e+01\n",
      "  -1.200e+00  5.450e+01  3.000e+01 -2.190e+01  8.740e+01  8.290e+01\n",
      "  -1.840e+01  2.220e+01 -3.370e+01]\n",
      " [ 2.400e+01 -3.720e+01  6.460e+01 -4.730e+01  7.800e+01 -6.610e+01\n",
      "  -2.920e+01  4.000e+01  6.180e+01  6.000e+01  1.670e+01  4.340e+01\n",
      "  -3.280e+01  5.120e+01  1.800e+01  6.000e+00  1.830e+01 -6.860e+01\n",
      "   2.140e+01  3.970e+01  3.420e+01 -3.550e+01 -3.970e+01 -3.400e+00\n",
      "  -3.790e+01  2.920e+01 -5.480e+01]\n",
      " [-5.100e+01  4.000e+01  5.300e+01 -3.680e+01  4.550e+01  1.700e+00\n",
      "  -1.000e+01 -8.350e+01 -2.200e+00  2.250e+01  1.245e+02 -2.800e+01\n",
      "  -6.100e+01  6.270e+01 -4.290e+01  1.078e+02  5.380e+01  2.060e+01\n",
      "   5.510e+01 -8.540e+01  4.790e+01  3.000e+00  6.260e+01 -4.500e+00\n",
      "   3.770e+01  2.530e+01  2.510e+01]\n",
      " [ 1.390e+01 -4.730e+01 -3.900e+00  8.400e+00  5.570e+01  8.640e+01\n",
      "   1.370e+01 -1.420e+01  3.900e+00 -4.690e+01  8.100e+00  7.900e+01\n",
      "   1.380e+01 -4.090e+01 -3.510e+01 -6.300e+00  4.680e+01 -3.730e+01\n",
      "   9.360e+01  1.077e+02  2.180e+01  2.490e+01  3.430e+01 -3.120e+01\n",
      "   4.240e+01  1.050e+01 -5.100e+00]\n",
      " [-2.570e+01  3.260e+01 -1.230e+01  1.390e+01 -1.300e+00  7.880e+01\n",
      "   4.410e+01 -5.820e+01  1.330e+01 -2.980e+01  6.000e-01  5.740e+01\n",
      "   9.300e+00  1.000e-01  1.140e+01  2.190e+01  2.410e+01 -2.700e+01\n",
      "  -6.010e+01 -3.950e+01  9.000e+00  8.600e+00  3.910e+01 -3.690e+01\n",
      "   4.630e+01 -3.180e+01  5.300e+00]\n",
      " [ 6.970e+01 -5.050e+01  3.220e+01 -3.620e+01  2.840e+01 -5.200e+01\n",
      "   4.140e+01  7.520e+01 -1.400e+00  3.710e+01 -3.560e+01  6.020e+01\n",
      "  -3.300e+01 -4.000e-01 -4.890e+01 -2.490e+01  4.720e+01  3.660e+01\n",
      "   2.560e+01 -4.270e+01  1.850e+01  7.080e+01  6.400e+00  8.760e+01\n",
      "   3.510e+01  3.750e+01  1.780e+01]\n",
      " [ 1.081e+02  3.500e+00 -6.270e+01  3.690e+01 -1.550e+01  2.560e+01\n",
      "  -5.940e+01  5.110e+01 -7.290e+01  8.990e+01  9.000e-01  6.890e+01\n",
      "   5.890e+01  1.540e+01  9.060e+01  9.000e+00 -5.190e+01  7.240e+01\n",
      "  -5.190e+01  9.600e+01 -6.480e+01  1.370e+01 -3.400e+01 -4.050e+01\n",
      "   4.860e+01  1.520e+01  6.730e+01]]\n",
      "\n",
      "Shape after convolutional layer: (27, 27)\n"
     ]
    }
   ],
   "source": [
    "# Convolutional layer\n",
    "kernel_size = 2\n",
    "padding = 0\n",
    "stride = 1\n",
    "\n",
    "# Calculate the output size\n",
    "H_out = (X.shape[0] + 2 * padding - kernel_size) // stride + 1\n",
    "W_out = (X.shape[1] + 2 * padding - kernel_size) // stride + 1\n",
    "\n",
    "# Do the convolution operation\n",
    "Z = np.zeros((H_out, W_out))\n",
    "for i in range(0, H_out, stride):\n",
    "    for j in range(0, W_out, stride):\n",
    "        conv_region = X[i:i+kernel_size, j:j+kernel_size]\n",
    "        Z[i, j] = np.sum(W * conv_region) + b\n",
    "\n",
    "print(\"Output (Z):\\n\", Z)\n",
    "print(\"\\nShape after convolutional layer:\", Z.shape)"
   ]
  },
  {
   "cell_type": "code",
   "execution_count": 25,
   "id": "07a32342",
   "metadata": {},
   "outputs": [
    {
     "name": "stdout",
     "output_type": "stream",
     "text": [
      "Output after ReLU (Z):\n",
      " [[0.000e+00 3.600e+00 2.570e+01 3.550e+01 0.000e+00 0.000e+00 1.208e+02\n",
      "  3.380e+01 6.910e+01 7.400e+00 0.000e+00 0.000e+00 2.990e+01 0.000e+00\n",
      "  8.100e+00 0.000e+00 7.960e+01 0.000e+00 0.000e+00 5.610e+01 2.800e+00\n",
      "  7.240e+01 4.200e+01 2.290e+01 0.000e+00 8.000e+01 7.750e+01]\n",
      " [2.290e+01 0.000e+00 0.000e+00 8.850e+01 1.820e+01 0.000e+00 0.000e+00\n",
      "  0.000e+00 1.400e+00 8.850e+01 0.000e+00 0.000e+00 5.360e+01 0.000e+00\n",
      "  9.100e+01 0.000e+00 4.820e+01 0.000e+00 1.008e+02 0.000e+00 3.920e+01\n",
      "  0.000e+00 2.610e+01 0.000e+00 0.000e+00 0.000e+00 5.750e+01]\n",
      " [0.000e+00 3.400e+00 2.800e+01 0.000e+00 9.800e+01 6.140e+01 1.140e+01\n",
      "  4.470e+01 0.000e+00 6.830e+01 3.990e+01 0.000e+00 4.590e+01 0.000e+00\n",
      "  5.530e+01 7.600e+01 8.700e+00 0.000e+00 0.000e+00 5.850e+01 0.000e+00\n",
      "  2.070e+01 1.550e+01 8.970e+01 9.600e+00 0.000e+00 4.290e+01]\n",
      " [5.350e+01 0.000e+00 3.870e+01 0.000e+00 0.000e+00 0.000e+00 0.000e+00\n",
      "  0.000e+00 3.750e+01 1.210e+01 1.069e+02 0.000e+00 4.430e+01 1.750e+01\n",
      "  0.000e+00 1.157e+02 1.660e+01 8.530e+01 0.000e+00 7.650e+01 0.000e+00\n",
      "  0.000e+00 0.000e+00 0.000e+00 0.000e+00 3.310e+01 1.480e+01]\n",
      " [8.250e+01 0.000e+00 7.290e+01 7.230e+01 7.920e+01 2.790e+01 2.980e+01\n",
      "  6.200e+00 0.000e+00 0.000e+00 4.970e+01 4.200e+01 2.690e+01 1.500e+00\n",
      "  0.000e+00 0.000e+00 1.300e+00 9.410e+01 4.030e+01 3.070e+01 7.350e+01\n",
      "  0.000e+00 5.950e+01 1.100e+00 6.100e+01 0.000e+00 0.000e+00]\n",
      " [7.910e+01 4.800e+00 0.000e+00 0.000e+00 0.000e+00 1.340e+01 0.000e+00\n",
      "  4.870e+01 7.880e+01 1.610e+01 4.210e+01 9.500e+00 4.770e+01 1.800e+01\n",
      "  1.110e+01 8.990e+01 0.000e+00 6.200e+00 8.390e+01 0.000e+00 2.040e+01\n",
      "  5.050e+01 0.000e+00 5.540e+01 0.000e+00 1.379e+02 4.040e+01]\n",
      " [0.000e+00 3.990e+01 1.880e+01 0.000e+00 2.430e+01 4.970e+01 8.050e+01\n",
      "  4.900e+00 0.000e+00 0.000e+00 1.700e+00 0.000e+00 9.020e+01 1.030e+01\n",
      "  0.000e+00 0.000e+00 0.000e+00 5.920e+01 0.000e+00 0.000e+00 1.840e+01\n",
      "  0.000e+00 0.000e+00 0.000e+00 0.000e+00 0.000e+00 7.330e+01]\n",
      " [0.000e+00 1.320e+01 7.100e+00 1.430e+01 0.000e+00 0.000e+00 0.000e+00\n",
      "  1.770e+01 1.328e+02 6.120e+01 0.000e+00 0.000e+00 0.000e+00 5.540e+01\n",
      "  3.270e+01 3.740e+01 0.000e+00 1.180e+01 2.180e+01 8.140e+01 4.010e+01\n",
      "  3.890e+01 6.660e+01 2.870e+01 4.900e+00 7.070e+01 0.000e+00]\n",
      " [0.000e+00 1.205e+02 0.000e+00 3.380e+01 0.000e+00 1.360e+01 0.000e+00\n",
      "  0.000e+00 2.600e+00 9.940e+01 2.850e+01 7.100e+00 1.650e+01 4.350e+01\n",
      "  4.280e+01 0.000e+00 8.090e+01 1.920e+01 0.000e+00 3.360e+01 4.170e+01\n",
      "  0.000e+00 3.410e+01 0.000e+00 0.000e+00 4.980e+01 0.000e+00]\n",
      " [0.000e+00 7.670e+01 7.850e+01 3.270e+01 6.360e+01 0.000e+00 2.530e+01\n",
      "  1.370e+01 0.000e+00 1.029e+02 0.000e+00 8.830e+01 0.000e+00 0.000e+00\n",
      "  6.220e+01 4.000e+00 0.000e+00 2.260e+01 2.290e+01 1.630e+01 0.000e+00\n",
      "  5.280e+01 5.780e+01 6.770e+01 1.480e+01 0.000e+00 4.080e+01]\n",
      " [4.620e+01 0.000e+00 0.000e+00 2.320e+01 5.020e+01 0.000e+00 2.440e+01\n",
      "  8.900e+01 0.000e+00 7.050e+01 0.000e+00 7.750e+01 9.250e+01 0.000e+00\n",
      "  0.000e+00 8.650e+01 0.000e+00 0.000e+00 1.130e+02 6.600e+00 3.220e+01\n",
      "  2.940e+01 1.300e+01 0.000e+00 5.010e+01 6.180e+01 0.000e+00]\n",
      " [0.000e+00 1.170e+02 3.860e+01 2.510e+01 1.050e+01 9.900e+00 0.000e+00\n",
      "  7.780e+01 0.000e+00 3.500e+01 0.000e+00 0.000e+00 4.900e+01 5.020e+01\n",
      "  0.000e+00 9.060e+01 1.290e+01 0.000e+00 0.000e+00 2.600e+01 0.000e+00\n",
      "  0.000e+00 3.260e+01 1.064e+02 0.000e+00 4.270e+01 0.000e+00]\n",
      " [0.000e+00 0.000e+00 0.000e+00 0.000e+00 3.020e+01 0.000e+00 3.230e+01\n",
      "  7.730e+01 7.920e+01 0.000e+00 0.000e+00 0.000e+00 3.640e+01 0.000e+00\n",
      "  1.140e+01 2.040e+01 0.000e+00 4.480e+01 7.950e+01 0.000e+00 9.520e+01\n",
      "  3.100e+00 0.000e+00 0.000e+00 1.243e+02 7.220e+01 0.000e+00]\n",
      " [0.000e+00 6.880e+01 0.000e+00 2.890e+01 0.000e+00 5.810e+01 0.000e+00\n",
      "  0.000e+00 1.139e+02 6.030e+01 5.690e+01 0.000e+00 1.710e+01 0.000e+00\n",
      "  8.000e+00 1.170e+01 2.400e+00 6.000e+00 0.000e+00 2.040e+01 1.400e+01\n",
      "  4.440e+01 0.000e+00 0.000e+00 0.000e+00 4.240e+01 9.940e+01]\n",
      " [6.580e+01 2.930e+01 3.110e+01 5.170e+01 3.730e+01 4.770e+01 2.920e+01\n",
      "  0.000e+00 0.000e+00 1.180e+01 1.620e+01 6.040e+01 7.200e+00 4.490e+01\n",
      "  0.000e+00 7.510e+01 0.000e+00 2.440e+01 1.000e-01 0.000e+00 5.590e+01\n",
      "  5.620e+01 0.000e+00 1.370e+01 0.000e+00 0.000e+00 0.000e+00]\n",
      " [8.490e+01 0.000e+00 0.000e+00 1.090e+01 8.580e+01 3.380e+01 0.000e+00\n",
      "  1.043e+02 0.000e+00 0.000e+00 0.000e+00 2.300e+00 6.510e+01 3.610e+01\n",
      "  0.000e+00 6.720e+01 0.000e+00 4.850e+01 0.000e+00 1.430e+01 0.000e+00\n",
      "  6.280e+01 0.000e+00 1.072e+02 5.440e+01 0.000e+00 1.080e+01]\n",
      " [2.080e+01 2.110e+01 0.000e+00 0.000e+00 0.000e+00 2.000e+01 0.000e+00\n",
      "  4.920e+01 0.000e+00 5.550e+01 0.000e+00 0.000e+00 6.390e+01 5.120e+01\n",
      "  0.000e+00 7.200e+00 6.600e+01 5.180e+01 0.000e+00 7.030e+01 3.280e+01\n",
      "  1.500e+00 0.000e+00 6.540e+01 0.000e+00 2.890e+01 0.000e+00]\n",
      " [3.150e+01 0.000e+00 3.830e+01 6.580e+01 6.930e+01 5.370e+01 0.000e+00\n",
      "  8.630e+01 8.500e+01 1.380e+01 0.000e+00 0.000e+00 4.430e+01 0.000e+00\n",
      "  0.000e+00 3.510e+01 0.000e+00 1.234e+02 1.730e+01 0.000e+00 5.900e+01\n",
      "  0.000e+00 0.000e+00 1.166e+02 8.250e+01 0.000e+00 4.510e+01]\n",
      " [0.000e+00 0.000e+00 0.000e+00 0.000e+00 0.000e+00 6.000e+01 3.140e+01\n",
      "  0.000e+00 5.230e+01 1.082e+02 5.500e+00 7.800e+00 6.370e+01 0.000e+00\n",
      "  9.340e+01 0.000e+00 0.000e+00 0.000e+00 7.340e+01 0.000e+00 4.840e+01\n",
      "  0.000e+00 0.000e+00 2.030e+01 2.880e+01 0.000e+00 8.200e+00]\n",
      " [8.050e+01 3.890e+01 3.330e+01 0.000e+00 0.000e+00 0.000e+00 9.730e+01\n",
      "  0.000e+00 0.000e+00 3.230e+01 0.000e+00 1.300e+00 4.280e+01 0.000e+00\n",
      "  0.000e+00 5.060e+01 8.300e+00 0.000e+00 1.900e+00 6.250e+01 1.820e+01\n",
      "  0.000e+00 0.000e+00 0.000e+00 0.000e+00 8.900e+01 5.530e+01]\n",
      " [8.400e+00 2.170e+01 8.740e+01 1.600e+00 0.000e+00 5.900e+00 2.150e+01\n",
      "  1.031e+02 5.700e+00 0.000e+00 1.170e+01 0.000e+00 3.860e+01 2.800e+01\n",
      "  7.470e+01 0.000e+00 7.600e+01 4.450e+01 0.000e+00 5.450e+01 3.000e+01\n",
      "  0.000e+00 8.740e+01 8.290e+01 0.000e+00 2.220e+01 0.000e+00]\n",
      " [2.400e+01 0.000e+00 6.460e+01 0.000e+00 7.800e+01 0.000e+00 0.000e+00\n",
      "  4.000e+01 6.180e+01 6.000e+01 1.670e+01 4.340e+01 0.000e+00 5.120e+01\n",
      "  1.800e+01 6.000e+00 1.830e+01 0.000e+00 2.140e+01 3.970e+01 3.420e+01\n",
      "  0.000e+00 0.000e+00 0.000e+00 0.000e+00 2.920e+01 0.000e+00]\n",
      " [0.000e+00 4.000e+01 5.300e+01 0.000e+00 4.550e+01 1.700e+00 0.000e+00\n",
      "  0.000e+00 0.000e+00 2.250e+01 1.245e+02 0.000e+00 0.000e+00 6.270e+01\n",
      "  0.000e+00 1.078e+02 5.380e+01 2.060e+01 5.510e+01 0.000e+00 4.790e+01\n",
      "  3.000e+00 6.260e+01 0.000e+00 3.770e+01 2.530e+01 2.510e+01]\n",
      " [1.390e+01 0.000e+00 0.000e+00 8.400e+00 5.570e+01 8.640e+01 1.370e+01\n",
      "  0.000e+00 3.900e+00 0.000e+00 8.100e+00 7.900e+01 1.380e+01 0.000e+00\n",
      "  0.000e+00 0.000e+00 4.680e+01 0.000e+00 9.360e+01 1.077e+02 2.180e+01\n",
      "  2.490e+01 3.430e+01 0.000e+00 4.240e+01 1.050e+01 0.000e+00]\n",
      " [0.000e+00 3.260e+01 0.000e+00 1.390e+01 0.000e+00 7.880e+01 4.410e+01\n",
      "  0.000e+00 1.330e+01 0.000e+00 6.000e-01 5.740e+01 9.300e+00 1.000e-01\n",
      "  1.140e+01 2.190e+01 2.410e+01 0.000e+00 0.000e+00 0.000e+00 9.000e+00\n",
      "  8.600e+00 3.910e+01 0.000e+00 4.630e+01 0.000e+00 5.300e+00]\n",
      " [6.970e+01 0.000e+00 3.220e+01 0.000e+00 2.840e+01 0.000e+00 4.140e+01\n",
      "  7.520e+01 0.000e+00 3.710e+01 0.000e+00 6.020e+01 0.000e+00 0.000e+00\n",
      "  0.000e+00 0.000e+00 4.720e+01 3.660e+01 2.560e+01 0.000e+00 1.850e+01\n",
      "  7.080e+01 6.400e+00 8.760e+01 3.510e+01 3.750e+01 1.780e+01]\n",
      " [1.081e+02 3.500e+00 0.000e+00 3.690e+01 0.000e+00 2.560e+01 0.000e+00\n",
      "  5.110e+01 0.000e+00 8.990e+01 9.000e-01 6.890e+01 5.890e+01 1.540e+01\n",
      "  9.060e+01 9.000e+00 0.000e+00 7.240e+01 0.000e+00 9.600e+01 0.000e+00\n",
      "  1.370e+01 0.000e+00 0.000e+00 4.860e+01 1.520e+01 6.730e+01]]\n",
      "\n",
      "Shape after ReLU: (27, 27)\n"
     ]
    }
   ],
   "source": [
    "# Activation function (ReLU)\n",
    "A = np.maximum(0, Z)\n",
    "print(\"Output after ReLU (Z):\\n\", A)\n",
    "print(\"\\nShape after ReLU:\", A.shape)"
   ]
  },
  {
   "cell_type": "code",
   "execution_count": 26,
   "id": "fe1fe4c5",
   "metadata": {},
   "outputs": [
    {
     "name": "stdout",
     "output_type": "stream",
     "text": [
      "Output after max-pooling layer (P):\n",
      " [[ 22.9   0.   88.5   0.   18.2   0.  120.8   0.   88.5   0.    0.    0.\n",
      "   53.6]\n",
      " [  0.    0.    0.    0.    0.    0.    0.    0.    0.    0.    0.    0.\n",
      "    0. ]\n",
      " [ 53.5   0.   38.7   0.   98.    0.   44.7   0.   68.3   0.  106.9   0.\n",
      "   45.9]\n",
      " [  0.    0.    0.    0.    0.    0.    0.    0.    0.    0.    0.    0.\n",
      "    0. ]\n",
      " [ 82.5   0.   72.9   0.   79.2   0.   48.7   0.   78.8   0.   49.7   0.\n",
      "   47.7]\n",
      " [  0.    0.    0.    0.    0.    0.    0.    0.    0.    0.    0.    0.\n",
      "    0. ]\n",
      " [ 39.9   0.   18.8   0.   49.7   0.   80.5   0.  132.8   0.    1.7   0.\n",
      "   90.2]\n",
      " [  0.    0.    0.    0.    0.    0.    0.    0.    0.    0.    0.    0.\n",
      "    0. ]\n",
      " [120.5   0.   78.5   0.   63.6   0.   25.3   0.  102.9   0.   88.3   0.\n",
      "   43.5]\n",
      " [  0.    0.    0.    0.    0.    0.    0.    0.    0.    0.    0.    0.\n",
      "    0. ]\n",
      " [117.    0.   38.6   0.   50.2   0.   89.    0.   70.5   0.   77.5   0.\n",
      "   92.5]\n",
      " [  0.    0.    0.    0.    0.    0.    0.    0.    0.    0.    0.    0.\n",
      "    0. ]\n",
      " [ 68.8   0.   28.9   0.   58.1   0.   77.3   0.  113.9   0.   56.9   0.\n",
      "   36.4]]\n",
      "\n",
      "Shape after max-pooling layer: (13, 13)\n"
     ]
    }
   ],
   "source": [
    "# MaxPool 2x2 layer\n",
    "pool_size = 2\n",
    "pool_stride = 2\n",
    "\n",
    "# Calculate the output size\n",
    "H_out = (A.shape[0] - pool_size) // pool_stride + 1\n",
    "W_out = (A.shape[1] - pool_size) // pool_stride + 1\n",
    "\n",
    "# Do the pooling operation\n",
    "P = np.zeros((H_out, W_out))\n",
    "for i in range(0, H_out, pool_stride):\n",
    "    for j in range(0, W_out, pool_stride):\n",
    "        pool_region = A[i:i+pool_size, j:j+pool_size]\n",
    "        P[i, j] = np.max(pool_region)\n",
    "        \n",
    "print(\"Output after max-pooling layer (P):\\n\", P)\n",
    "print(\"\\nShape after max-pooling layer:\", P.shape)"
   ]
  },
  {
   "cell_type": "markdown",
   "id": "17e4d4e0",
   "metadata": {},
   "source": [
    "### Backward pass?"
   ]
  },
  {
   "cell_type": "code",
   "execution_count": 27,
   "id": "8d0170ac",
   "metadata": {},
   "outputs": [],
   "source": [
    "# Write your code for convolutional layer's backward pass here"
   ]
  },
  {
   "cell_type": "markdown",
   "id": "7b34647b",
   "metadata": {},
   "source": [
    "### CNN for image classification\n"
   ]
  },
  {
   "cell_type": "code",
   "execution_count": 28,
   "id": "e85629c2",
   "metadata": {},
   "outputs": [],
   "source": [
    "transform = transforms.ToTensor()\n",
    "\n",
    "train_data = datasets.MNIST(root=\"./data\", train=True, download=False, transform=transform)\n",
    "train_loader = torch.utils.data.DataLoader(train_data, batch_size=1, shuffle=True)"
   ]
  },
  {
   "cell_type": "code",
   "execution_count": 29,
   "id": "e16e4f9e",
   "metadata": {},
   "outputs": [],
   "source": [
    "class CNN(nn.Module):\n",
    "    def __init__(self):\n",
    "        super(CNN, self).__init__()\n",
    "        self.conv1 = nn.Conv2d(in_channels=1, out_channels=32, kernel_size=3, stride=1, padding=1)\n",
    "        self.conv2 = nn.Conv2d(in_channels=32, out_channels=64, kernel_size=3, stride=1, padding=1)\n",
    "        self.pool = nn.MaxPool2d(kernel_size=2, stride=2)\n",
    "        self.relu = nn.ReLU()\n",
    "        self.fc1 = nn.Linear(64 * 7 * 7, 128)\n",
    "        self.fc2 = nn.Linear(128, 10)\n",
    "\n",
    "    def forward(self, x):\n",
    "        x = self.conv1(x)\n",
    "        x = self.relu(x)\n",
    "        x = self.pool(x)\n",
    "        x = self.conv2(x)\n",
    "        x = self.relu(x)\n",
    "        x = self.pool(x)\n",
    "        x = x.view(x.size(0), -1)  # Flattening\n",
    "        x = self.fc1(x)\n",
    "        x = self.relu(x)\n",
    "        x = self.fc2(x)\n",
    "\n",
    "        return x"
   ]
  },
  {
   "cell_type": "code",
   "execution_count": 30,
   "id": "7637a38d",
   "metadata": {},
   "outputs": [
    {
     "name": "stdout",
     "output_type": "stream",
     "text": [
      "Epoch 1, Loss = 0.1119\n",
      "Epoch 2, Loss = 0.0576\n",
      "Epoch 3, Loss = 0.0496\n",
      "Epoch 4, Loss = 0.0438\n",
      "Epoch 5, Loss = 0.0454\n",
      "Epoch 6, Loss = 0.0408\n",
      "Epoch 7, Loss = 0.0444\n",
      "Epoch 8, Loss = 0.0399\n",
      "Epoch 9, Loss = 0.0412\n",
      "Epoch 10, Loss = 0.0409\n"
     ]
    }
   ],
   "source": [
    "device = \"cuda\" if torch.cuda.is_available() else \"cpu\"\n",
    "\n",
    "model = CNN().to(device)\n",
    "\n",
    "criterion = nn.CrossEntropyLoss()\n",
    "optimizer = optim.Adam(model.parameters(), lr=0.001)\n",
    "\n",
    "for epoch in range(10):\n",
    "    model.train()\n",
    "    total_loss = 0\n",
    "\n",
    "    for images, labels in train_loader:\n",
    "        images, labels = images.to(device), labels.to(device)\n",
    "        \n",
    "        optimizer.zero_grad()\n",
    "\n",
    "        # Forward pass\n",
    "        preds = model(images)\n",
    "        loss = criterion(preds, labels)\n",
    "\n",
    "        # Backward pass\n",
    "        loss.backward()\n",
    "\n",
    "        # Update the weights and biases\n",
    "        optimizer.step()\n",
    "\n",
    "        total_loss += loss.item()\n",
    "\n",
    "    avg_loss = total_loss / len(train_loader)\n",
    "\n",
    "    print(f\"Epoch {epoch+1}, Loss = {avg_loss:.4f}\")"
   ]
  },
  {
   "cell_type": "code",
   "execution_count": 31,
   "id": "dde06210",
   "metadata": {},
   "outputs": [
    {
     "name": "stdout",
     "output_type": "stream",
     "text": [
      "\n",
      "Final Test Accuracy: 98.290\n"
     ]
    }
   ],
   "source": [
    "test_data = datasets.MNIST(root=\"./data\", train=False, download=False, transform=transform)\n",
    "test_loader = torch.utils.data.DataLoader(test_data, batch_size=8, shuffle=False)\n",
    "\n",
    "correct = 0\n",
    "total = 0\n",
    "test_loss = 0\n",
    "\n",
    "model.eval()\n",
    "with torch.no_grad():\n",
    "    for images, labels in test_loader:\n",
    "        images, labels = images.to(device), labels.to(device)\n",
    "\n",
    "        outputs = model(images)\n",
    "        _, preds = torch.max(outputs, 1)\n",
    "\n",
    "        correct += (preds == labels).sum().item()\n",
    "        total += labels.size(0)\n",
    "\n",
    "test_acc = (correct / total) * 100\n",
    "\n",
    "print(f\"\\nFinal Test Accuracy: {test_acc:.3f}\")"
   ]
  },
  {
   "cell_type": "code",
   "execution_count": 32,
   "id": "f5697396",
   "metadata": {},
   "outputs": [
    {
     "data": {
      "image/png": "[encoded data removed]",
      "text/plain": [
       "<Figure size 1200x400 with 5 Axes>"
      ]
     },
     "metadata": {},
     "output_type": "display_data"
    }
   ],
   "source": [
    "model.eval()\n",
    "\n",
    "# Get the first 5 test images and labels\n",
    "images, labels = next(iter(test_loader))\n",
    "\n",
    "images = images.to(device)\n",
    "labels = labels.to(device)\n",
    "\n",
    "# Get predictions\n",
    "with torch.no_grad():\n",
    "    outputs = model(images)\n",
    "    _, preds = torch.max(outputs, 1)\n",
    "\n",
    "plt.figure(figsize=(12, 4))\n",
    "for i in range(5):\n",
    "    plt.subplot(1, 5, i + 1)\n",
    "    plt.imshow(images[i].cpu().squeeze(), cmap=\"gray\")\n",
    "    plt.title(f\"True: {labels[i].item()}\\nPred: {preds[i].item()}\")\n",
    "    plt.axis(\"off\")\n",
    "\n",
    "plt.show()"
   ]
  }
 ],
 "metadata": {
  "kernelspec": {
   "display_name": ".venv",
   "language": "python",
   "name": "python3"
  },
  "language_info": {
   "codemirror_mode": {
    "name": "ipython",
    "version": 3
   },
   "file_extension": ".py",
   "mimetype": "text/x-python",
   "name": "python",
   "nbconvert_exporter": "python",
   "pygments_lexer": "ipython3",
   "version": "3.10.11"
  }
 },
 "nbformat": 4,
 "nbformat_minor": 5
}
