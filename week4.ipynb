{
 "cells": [
  {
   "cell_type": "code",
   "execution_count": 1,
   "id": "efd8e86e",
   "metadata": {},
   "outputs": [],
   "source": [
    "import numpy as np"
   ]
  },
  {
   "cell_type": "markdown",
   "id": "fc1313c3",
   "metadata": {},
   "source": [
    "## Fully-Connected Layer"
   ]
  },
  {
   "cell_type": "markdown",
   "id": "dca22f88",
   "metadata": {},
   "source": [
    "### Initialize weights and bias"
   ]
  },
  {
   "cell_type": "code",
   "execution_count": 2,
   "id": "c40e2bf7",
   "metadata": {},
   "outputs": [],
   "source": [
    "x = np.array([[1.0], [2.0]])\n",
    "y_true = np.array([[1.0]])\n",
    "\n",
    "W = np.array([[0.1, 0.2]])\n",
    "b = np.array([[0.5]])"
   ]
  },
  {
   "cell_type": "markdown",
   "id": "2dfbfa44",
   "metadata": {},
   "source": [
    "### Forward pass"
   ]
  },
  {
   "cell_type": "code",
   "execution_count": 3,
   "id": "ee61dc2b",
   "metadata": {},
   "outputs": [
    {
     "name": "stdout",
     "output_type": "stream",
     "text": [
      "Output (y):\n",
      " [[0.73105858]]\n"
     ]
    }
   ],
   "source": [
    "z = W @ x + b\n",
    "y_pred = 1 / (1 + np.exp(-z))\n",
    "\n",
    "print(\"Output (y):\\n\", y_pred)"
   ]
  },
  {
   "cell_type": "markdown",
   "id": "af565866",
   "metadata": {},
   "source": [
    "### Calculate loss"
   ]
  },
  {
   "cell_type": "code",
   "execution_count": 4,
   "id": "987366c3",
   "metadata": {},
   "outputs": [
    {
     "name": "stdout",
     "output_type": "stream",
     "text": [
      "Loss (L):\n",
      " 0.07232948812851325\n"
     ]
    }
   ],
   "source": [
    "# Mean squared error\n",
    "loss = np.mean((y_true - y_pred) ** 2)\n",
    "\n",
    "print(\"Loss (L):\\n\", loss)"
   ]
  },
  {
   "cell_type": "markdown",
   "id": "ff05c7d6",
   "metadata": {},
   "source": [
    "### Backward pass"
   ]
  },
  {
   "cell_type": "code",
   "execution_count": null,
   "id": "2f512e94",
   "metadata": {},
   "outputs": [
    {
     "name": "stdout",
     "output_type": "stream",
     "text": [
      "Gradient wrt weights (dL/dW):\n",
      " [[-0.10575419 -0.21150837]]\n",
      "\n",
      "Gradient wrt bias (dL/db):\n",
      " [[-0.10575419]]\n",
      "\n",
      "Gradient wrt input (dL/dx):\n",
      " [[-0.01057542]\n",
      " [-0.02115084]]\n"
     ]
    }
   ],
   "source": [
    "dL_dy = - 2 * (y_true - y_pred)\n",
    "dy_dz = y_pred * (1 - y_pred)  # sigmoid derivative\n",
    "dL_dz = dL_dy * dy_dz\n",
    "dL_dW = dL_dz @ x.T\n",
    "dL_db = dL_dz\n",
    "dL_dx = dL_dz @ W.T\n",
    "\n",
    "print(\"Gradient wrt weights (dL/dW):\\n\", dL_dW)\n",
    "print(\"\\nGradient wrt bias (dL/db):\\n\", dL_db)\n",
    "print(\"\\nGradient wrt input (dL/dx):\\n\", dL_dx)"
   ]
  },
  {
   "cell_type": "markdown",
   "id": "060f6de1",
   "metadata": {},
   "source": [
    "### Update the weights and bias using the gradient"
   ]
  },
  {
   "cell_type": "code",
   "execution_count": 6,
   "id": "34fddfc7",
   "metadata": {},
   "outputs": [
    {
     "name": "stdout",
     "output_type": "stream",
     "text": [
      "Updated weights (W):\n",
      " [[0.10105754 0.20211508]]\n",
      "Updated bias (b):\n",
      " [[0.50105754]]\n"
     ]
    }
   ],
   "source": [
    "lr = 0.01\n",
    "W -= lr * dL_dW\n",
    "b -= lr * dL_db\n",
    "\n",
    "print(\"Updated weights (W):\\n\", W)\n",
    "print(\"Updated bias (b):\\n\", b)"
   ]
  },
  {
   "cell_type": "markdown",
   "id": "5c7bfce2",
   "metadata": {},
   "source": [
    "### Training loop"
   ]
  },
  {
   "cell_type": "code",
   "execution_count": null,
   "id": "b4ed4135",
   "metadata": {},
   "outputs": [
    {
     "name": "stdout",
     "output_type": "stream",
     "text": [
      "Epoch 1, Loss = 0.1073\n",
      "Updated W: [[0.10456405 0.20384734]]  Updated b: [[0.50575205]]\n",
      "Epoch 2, Loss = 0.1056\n",
      "Updated W: [[0.10906857 0.20764446]]  Updated b: [[0.51143431]]\n",
      "Epoch 3, Loss = 0.1040\n",
      "Updated W: [[0.11351457 0.21139234]]  Updated b: [[0.51704801]]\n",
      "Epoch 4, Loss = 0.1023\n",
      "Updated W: [[0.11790308 0.21509192]]  Updated b: [[0.52259436]]\n",
      "Epoch 5, Loss = 0.1007\n",
      "Updated W: [[0.12223509 0.21874413]]  Updated b: [[0.52807453]]\n"
     ]
    }
   ],
   "source": [
    "x = np.array([[1.0], [2.0]])\n",
    "y_true = np.array([[1.0]])\n",
    "\n",
    "W = np.array([[0.1, 0.2]])\n",
    "b = np.array([[0.5]])\n",
    "\n",
    "lr = 0.01\n",
    "\n",
    "# Training loop\n",
    "for epoch in range(5):\n",
    "    # Forward pass\n",
    "    z = x @ W + b\n",
    "    y_pred = 1 / (1 + np.exp(-z))  # Sigmoid activation function\n",
    "    \n",
    "    # Loss (mean-squared error)\n",
    "    loss = np.mean((y_true - y_pred) ** 2)\n",
    "\n",
    "    # Backward pass\n",
    "    dL_dy = - 2 * (y_true - y_pred)  # Mean-squared error derivation\n",
    "    dy_dz = y_pred * (1 - y_pred)  # Sigmoid derivation\n",
    "    dL_dz = dL_dy * dy_dz\n",
    "\n",
    "    dL_dW = dL_dz @ x.T\n",
    "    dL_db = dL_dz\n",
    "\n",
    "    # Update step\n",
    "    W -= lr * dL_dW\n",
    "    b -= lr * dL_db\n",
    "    \n",
    "    print(f\"Epoch {epoch+1}, Loss = {loss:.4f}\")\n",
    "    print(\"Updated W:\", W, \" Updated b:\", b)"
   ]
  },
  {
   "cell_type": "markdown",
   "id": "494de63a",
   "metadata": {},
   "source": [
    "## Fully-Connected Network (FCN)"
   ]
  },
  {
   "cell_type": "markdown",
   "id": "89e04ba9",
   "metadata": {},
   "source": [
    "### Example: FCN for point classification"
   ]
  },
  {
   "cell_type": "code",
   "execution_count": 8,
   "id": "3f6c69ee",
   "metadata": {},
   "outputs": [],
   "source": [
    "# pip install nnfs\n",
    "import nnfs\n",
    "from nnfs.datasets import spiral_data\n",
    "\n",
    "# pip install matplotlib\n",
    "import matplotlib.pyplot as plt"
   ]
  },
  {
   "cell_type": "code",
   "execution_count": 9,
   "id": "bf938ae2",
   "metadata": {},
   "outputs": [
    {
     "data": {
      "image/png": "[encoded data removed]",
      "text/plain": [
       "<Figure size 500x500 with 1 Axes>"
      ]
     },
     "metadata": {},
     "output_type": "display_data"
    }
   ],
   "source": [
    "x_train, y_train = spiral_data(samples=1000, classes=3)\n",
    "\n",
    "plt.figure(figsize=(5, 5))\n",
    "plt.scatter(x_train[:, 0], x_train[:, 1], c=y_train, cmap=\"brg\", s=10)\n",
    "plt.title(\"Spiral Dataset\")\n",
    "plt.xlabel(\"x1\")\n",
    "plt.ylabel(\"x2\")\n",
    "plt.show()"
   ]
  },
  {
   "cell_type": "code",
   "execution_count": 10,
   "id": "92e2af0f",
   "metadata": {},
   "outputs": [],
   "source": [
    "# pip install torch\n",
    "import torch\n",
    "import torch.nn as nn\n",
    "import torch.optim as optim"
   ]
  },
  {
   "cell_type": "code",
   "execution_count": 11,
   "id": "255a0754",
   "metadata": {},
   "outputs": [],
   "source": [
    "# Convert data to tensors\n",
    "x_train = torch.tensor(x_train, dtype=torch.float32)\n",
    "y_train = torch.tensor(y_train, dtype=torch.long)"
   ]
  },
  {
   "cell_type": "code",
   "execution_count": null,
   "id": "cc49d068",
   "metadata": {},
   "outputs": [
    {
     "name": "stdout",
     "output_type": "stream",
     "text": [
      "Epoch 1, Loss = 1.1035\n",
      "Epoch 2, Loss = 1.1160\n",
      "Epoch 3, Loss = 1.0776\n",
      "Epoch 4, Loss = 1.0921\n",
      "Epoch 5, Loss = 1.0766\n",
      "Epoch 6, Loss = 1.0696\n",
      "Epoch 7, Loss = 1.0705\n",
      "Epoch 8, Loss = 1.0692\n",
      "Epoch 9, Loss = 1.0647\n",
      "Epoch 10, Loss = 1.0601\n",
      "Epoch 11, Loss = 1.0554\n",
      "Epoch 12, Loss = 1.0513\n",
      "Epoch 13, Loss = 1.0478\n",
      "Epoch 14, Loss = 1.0436\n",
      "Epoch 15, Loss = 1.0385\n",
      "Epoch 16, Loss = 1.0337\n",
      "Epoch 17, Loss = 1.0281\n",
      "Epoch 18, Loss = 1.0227\n",
      "Epoch 19, Loss = 1.0168\n",
      "Epoch 20, Loss = 1.0104\n",
      "Epoch 21, Loss = 1.0033\n",
      "Epoch 22, Loss = 0.9963\n",
      "Epoch 23, Loss = 0.9894\n",
      "Epoch 24, Loss = 0.9826\n",
      "Epoch 25, Loss = 0.9755\n",
      "Epoch 26, Loss = 0.9682\n",
      "Epoch 27, Loss = 0.9616\n",
      "Epoch 28, Loss = 0.9548\n",
      "Epoch 29, Loss = 0.9474\n",
      "Epoch 30, Loss = 0.9394\n",
      "Epoch 31, Loss = 0.9316\n",
      "Epoch 32, Loss = 0.9238\n",
      "Epoch 33, Loss = 0.9158\n",
      "Epoch 34, Loss = 0.9090\n",
      "Epoch 35, Loss = 0.9056\n",
      "Epoch 36, Loss = 0.8980\n",
      "Epoch 37, Loss = 0.8793\n",
      "Epoch 38, Loss = 0.8757\n",
      "Epoch 39, Loss = 0.8699\n",
      "Epoch 40, Loss = 0.8515\n",
      "Epoch 41, Loss = 0.8492\n",
      "Epoch 42, Loss = 0.8408\n",
      "Epoch 43, Loss = 0.8238\n",
      "Epoch 44, Loss = 0.8226\n",
      "Epoch 45, Loss = 0.8115\n",
      "Epoch 46, Loss = 0.7964\n",
      "Epoch 47, Loss = 0.7946\n",
      "Epoch 48, Loss = 0.7816\n",
      "Epoch 49, Loss = 0.7678\n",
      "Epoch 50, Loss = 0.7645\n",
      "Epoch 51, Loss = 0.7524\n",
      "Epoch 52, Loss = 0.7371\n",
      "Epoch 53, Loss = 0.7326\n",
      "Epoch 54, Loss = 0.7234\n",
      "Epoch 55, Loss = 0.7063\n",
      "Epoch 56, Loss = 0.6976\n",
      "Epoch 57, Loss = 0.6923\n",
      "Epoch 58, Loss = 0.6790\n",
      "Epoch 59, Loss = 0.6641\n",
      "Epoch 60, Loss = 0.6560\n",
      "Epoch 61, Loss = 0.6493\n",
      "Epoch 62, Loss = 0.6384\n",
      "Epoch 63, Loss = 0.6254\n",
      "Epoch 64, Loss = 0.6160\n",
      "Epoch 65, Loss = 0.6077\n",
      "Epoch 66, Loss = 0.5987\n",
      "Epoch 67, Loss = 0.5907\n",
      "Epoch 68, Loss = 0.5816\n",
      "Epoch 69, Loss = 0.5702\n",
      "Epoch 70, Loss = 0.5613\n",
      "Epoch 71, Loss = 0.5542\n",
      "Epoch 72, Loss = 0.5455\n",
      "Epoch 73, Loss = 0.5382\n",
      "Epoch 74, Loss = 0.5342\n",
      "Epoch 75, Loss = 0.5323\n",
      "Epoch 76, Loss = 0.5333\n",
      "Epoch 77, Loss = 0.5335\n",
      "Epoch 78, Loss = 0.5198\n",
      "Epoch 79, Loss = 0.4965\n",
      "Epoch 80, Loss = 0.4995\n",
      "Epoch 81, Loss = 0.5035\n",
      "Epoch 82, Loss = 0.4858\n",
      "Epoch 83, Loss = 0.4773\n",
      "Epoch 84, Loss = 0.4786\n",
      "Epoch 85, Loss = 0.4736\n",
      "Epoch 86, Loss = 0.4623\n",
      "Epoch 87, Loss = 0.4576\n",
      "Epoch 88, Loss = 0.4583\n",
      "Epoch 89, Loss = 0.4477\n",
      "Epoch 90, Loss = 0.4405\n",
      "Epoch 91, Loss = 0.4421\n",
      "Epoch 92, Loss = 0.4342\n",
      "Epoch 93, Loss = 0.4272\n",
      "Epoch 94, Loss = 0.4260\n",
      "Epoch 95, Loss = 0.4194\n",
      "Epoch 96, Loss = 0.4154\n",
      "Epoch 97, Loss = 0.4131\n",
      "Epoch 98, Loss = 0.4051\n",
      "Epoch 99, Loss = 0.4014\n",
      "Epoch 100, Loss = 0.3996\n"
     ]
    }
   ],
   "source": [
    "# FCN model (3 hidden layers)\n",
    "model = nn.Sequential(\n",
    "    nn.Linear(in_features=2, out_features=128),\n",
    "    nn.ReLU(),\n",
    "    nn.Linear(in_features=128, out_features=128),\n",
    "    nn.ReLU(),\n",
    "    nn.Linear(in_features=128, out_features=3),\n",
    ")\n",
    "\n",
    "criterion = nn.CrossEntropyLoss()\n",
    "optimizer = optim.Adam(model.parameters(), lr=0.01)\n",
    "\n",
    "for epoch in range(100):\n",
    "    optimizer.zero_grad()\n",
    "\n",
    "    # Forward pass\n",
    "    y_pred = model(x_train)\n",
    "    loss = criterion(y_pred, y_train)\n",
    "\n",
    "    # Backward pass\n",
    "    loss.backward()\n",
    "\n",
    "    # Update the weights and biases\n",
    "    optimizer.step()\n",
    "\n",
    "    print(f\"Epoch {epoch+1}, Loss = {loss:.4f}\")"
   ]
  },
  {
   "cell_type": "markdown",
   "id": "39f4a5c3",
   "metadata": {},
   "source": [
    "### Test the model"
   ]
  },
  {
   "cell_type": "code",
   "execution_count": 13,
   "id": "bc4d8578",
   "metadata": {},
   "outputs": [
    {
     "data": {
      "image/png": "[encoded data removed]",
      "text/plain": [
       "<Figure size 500x500 with 1 Axes>"
      ]
     },
     "metadata": {},
     "output_type": "display_data"
    }
   ],
   "source": [
    "x_test, y_test = spiral_data(samples=100, classes=3)\n",
    "\n",
    "plt.figure(figsize=(5, 5))\n",
    "plt.scatter(x_test[:, 0], x_test[:, 1], c=y_test, cmap=\"brg\", s=10)\n",
    "plt.title(\"Spiral Dataset\")\n",
    "plt.xlabel(\"x1\")\n",
    "plt.ylabel(\"x2\")\n",
    "plt.show()"
   ]
  },
  {
   "cell_type": "code",
   "execution_count": 14,
   "id": "e69e8d17",
   "metadata": {},
   "outputs": [
    {
     "name": "stdout",
     "output_type": "stream",
     "text": [
      "\n",
      "Final Test Accuracy: 0.833\n"
     ]
    }
   ],
   "source": [
    "# Convert data to tensors\n",
    "x_test = torch.tensor(x_test, dtype=torch.float32)\n",
    "y_test = torch.tensor(y_test, dtype=torch.long)\n",
    "\n",
    "with torch.no_grad():\n",
    "    y_pred = model(x_test)\n",
    "    pred_test = torch.argmax(y_pred, axis=1)\n",
    "    test_acc = (pred_test == y_test).float().mean()\n",
    "\n",
    "print(f\"\\nFinal Test Accuracy: {test_acc:.3f}\")"
   ]
  },
  {
   "cell_type": "markdown",
   "id": "869d32fe",
   "metadata": {},
   "source": [
    "### Example: FCN for image classification"
   ]
  },
  {
   "cell_type": "code",
   "execution_count": 15,
   "id": "9240db31",
   "metadata": {},
   "outputs": [],
   "source": [
    "from torchvision import datasets, transforms"
   ]
  },
  {
   "cell_type": "code",
   "execution_count": 16,
   "id": "a1e15982",
   "metadata": {},
   "outputs": [],
   "source": [
    "transform = transforms.ToTensor()\n",
    "\n",
    "train_data = datasets.MNIST(root=\"./data\", train=True, download=True, transform=transform)\n",
    "test_data = datasets.MNIST(root=\"./data\", train=False, download=True, transform=transform)"
   ]
  },
  {
   "cell_type": "code",
   "execution_count": 17,
   "id": "58157cf5",
   "metadata": {},
   "outputs": [
    {
     "name": "stdout",
     "output_type": "stream",
     "text": [
      "Image shape: torch.Size([1, 28, 28])\n",
      "Label: 5\n"
     ]
    }
   ],
   "source": [
    "image, label = train_data[0]\n",
    "\n",
    "print(\"Image shape:\", image.shape)\n",
    "print(\"Label:\", label)\n"
   ]
  },
  {
   "cell_type": "code",
   "execution_count": 18,
   "id": "86499d72",
   "metadata": {},
   "outputs": [
    {
     "name": "stdout",
     "output_type": "stream",
     "text": [
      "tensor([[[0.0000, 0.0000, 0.0000, 0.0000, 0.0000, 0.0000, 0.0000, 0.0000,\n",
      "          0.0000, 0.0000, 0.0000, 0.0000, 0.0000, 0.0000, 0.0000, 0.0000,\n",
      "          0.0000, 0.0000, 0.0000, 0.0000, 0.0000, 0.0000, 0.0000, 0.0000,\n",
      "          0.0000, 0.0000, 0.0000, 0.0000],\n",
      "         [0.0000, 0.0000, 0.0000, 0.0000, 0.0000, 0.0000, 0.0000, 0.0000,\n",
      "          0.0000, 0.0000, 0.0000, 0.0000, 0.0000, 0.0000, 0.0000, 0.0000,\n",
      "          0.0000, 0.0000, 0.0000, 0.0000, 0.0000, 0.0000, 0.0000, 0.0000,\n",
      "          0.0000, 0.0000, 0.0000, 0.0000],\n",
      "         [0.0000, 0.0000, 0.0000, 0.0000, 0.0000, 0.0000, 0.0000, 0.0000,\n",
      "          0.0000, 0.0000, 0.0000, 0.0000, 0.0000, 0.0000, 0.0000, 0.0000,\n",
      "          0.0000, 0.0000, 0.0000, 0.0000, 0.0000, 0.0000, 0.0000, 0.0000,\n",
      "          0.0000, 0.0000, 0.0000, 0.0000],\n",
      "         [0.0000, 0.0000, 0.0000, 0.0000, 0.0000, 0.0000, 0.0000, 0.0000,\n",
      "          0.0000, 0.0000, 0.0000, 0.0000, 0.0000, 0.0000, 0.0000, 0.0000,\n",
      "          0.0000, 0.0000, 0.0000, 0.0000, 0.0000, 0.0000, 0.0000, 0.0000,\n",
      "          0.0000, 0.0000, 0.0000, 0.0000],\n",
      "         [0.0000, 0.0000, 0.0000, 0.0000, 0.0000, 0.0000, 0.0000, 0.0000,\n",
      "          0.0000, 0.0000, 0.0000, 0.0000, 0.0000, 0.0000, 0.0000, 0.0000,\n",
      "          0.0000, 0.0000, 0.0000, 0.0000, 0.0000, 0.0000, 0.0000, 0.0000,\n",
      "          0.0000, 0.0000, 0.0000, 0.0000],\n",
      "         [0.0000, 0.0000, 0.0000, 0.0000, 0.0000, 0.0000, 0.0000, 0.0000,\n",
      "          0.0000, 0.0000, 0.0000, 0.0000, 0.0118, 0.0706, 0.0706, 0.0706,\n",
      "          0.4941, 0.5333, 0.6863, 0.1020, 0.6510, 1.0000, 0.9686, 0.4980,\n",
      "          0.0000, 0.0000, 0.0000, 0.0000],\n",
      "         [0.0000, 0.0000, 0.0000, 0.0000, 0.0000, 0.0000, 0.0000, 0.0000,\n",
      "          0.1176, 0.1412, 0.3686, 0.6039, 0.6667, 0.9922, 0.9922, 0.9922,\n",
      "          0.9922, 0.9922, 0.8824, 0.6745, 0.9922, 0.9490, 0.7647, 0.2510,\n",
      "          0.0000, 0.0000, 0.0000, 0.0000],\n",
      "         [0.0000, 0.0000, 0.0000, 0.0000, 0.0000, 0.0000, 0.0000, 0.1922,\n",
      "          0.9333, 0.9922, 0.9922, 0.9922, 0.9922, 0.9922, 0.9922, 0.9922,\n",
      "          0.9922, 0.9843, 0.3647, 0.3216, 0.3216, 0.2196, 0.1529, 0.0000,\n",
      "          0.0000, 0.0000, 0.0000, 0.0000],\n",
      "         [0.0000, 0.0000, 0.0000, 0.0000, 0.0000, 0.0000, 0.0000, 0.0706,\n",
      "          0.8588, 0.9922, 0.9922, 0.9922, 0.9922, 0.9922, 0.7765, 0.7137,\n",
      "          0.9686, 0.9451, 0.0000, 0.0000, 0.0000, 0.0000, 0.0000, 0.0000,\n",
      "          0.0000, 0.0000, 0.0000, 0.0000],\n",
      "         [0.0000, 0.0000, 0.0000, 0.0000, 0.0000, 0.0000, 0.0000, 0.0000,\n",
      "          0.3137, 0.6118, 0.4196, 0.9922, 0.9922, 0.8039, 0.0431, 0.0000,\n",
      "          0.1686, 0.6039, 0.0000, 0.0000, 0.0000, 0.0000, 0.0000, 0.0000,\n",
      "          0.0000, 0.0000, 0.0000, 0.0000],\n",
      "         [0.0000, 0.0000, 0.0000, 0.0000, 0.0000, 0.0000, 0.0000, 0.0000,\n",
      "          0.0000, 0.0549, 0.0039, 0.6039, 0.9922, 0.3529, 0.0000, 0.0000,\n",
      "          0.0000, 0.0000, 0.0000, 0.0000, 0.0000, 0.0000, 0.0000, 0.0000,\n",
      "          0.0000, 0.0000, 0.0000, 0.0000],\n",
      "         [0.0000, 0.0000, 0.0000, 0.0000, 0.0000, 0.0000, 0.0000, 0.0000,\n",
      "          0.0000, 0.0000, 0.0000, 0.5451, 0.9922, 0.7451, 0.0078, 0.0000,\n",
      "          0.0000, 0.0000, 0.0000, 0.0000, 0.0000, 0.0000, 0.0000, 0.0000,\n",
      "          0.0000, 0.0000, 0.0000, 0.0000],\n",
      "         [0.0000, 0.0000, 0.0000, 0.0000, 0.0000, 0.0000, 0.0000, 0.0000,\n",
      "          0.0000, 0.0000, 0.0000, 0.0431, 0.7451, 0.9922, 0.2745, 0.0000,\n",
      "          0.0000, 0.0000, 0.0000, 0.0000, 0.0000, 0.0000, 0.0000, 0.0000,\n",
      "          0.0000, 0.0000, 0.0000, 0.0000],\n",
      "         [0.0000, 0.0000, 0.0000, 0.0000, 0.0000, 0.0000, 0.0000, 0.0000,\n",
      "          0.0000, 0.0000, 0.0000, 0.0000, 0.1373, 0.9451, 0.8824, 0.6275,\n",
      "          0.4235, 0.0039, 0.0000, 0.0000, 0.0000, 0.0000, 0.0000, 0.0000,\n",
      "          0.0000, 0.0000, 0.0000, 0.0000],\n",
      "         [0.0000, 0.0000, 0.0000, 0.0000, 0.0000, 0.0000, 0.0000, 0.0000,\n",
      "          0.0000, 0.0000, 0.0000, 0.0000, 0.0000, 0.3176, 0.9412, 0.9922,\n",
      "          0.9922, 0.4667, 0.0980, 0.0000, 0.0000, 0.0000, 0.0000, 0.0000,\n",
      "          0.0000, 0.0000, 0.0000, 0.0000],\n",
      "         [0.0000, 0.0000, 0.0000, 0.0000, 0.0000, 0.0000, 0.0000, 0.0000,\n",
      "          0.0000, 0.0000, 0.0000, 0.0000, 0.0000, 0.0000, 0.1765, 0.7294,\n",
      "          0.9922, 0.9922, 0.5882, 0.1059, 0.0000, 0.0000, 0.0000, 0.0000,\n",
      "          0.0000, 0.0000, 0.0000, 0.0000],\n",
      "         [0.0000, 0.0000, 0.0000, 0.0000, 0.0000, 0.0000, 0.0000, 0.0000,\n",
      "          0.0000, 0.0000, 0.0000, 0.0000, 0.0000, 0.0000, 0.0000, 0.0627,\n",
      "          0.3647, 0.9882, 0.9922, 0.7333, 0.0000, 0.0000, 0.0000, 0.0000,\n",
      "          0.0000, 0.0000, 0.0000, 0.0000],\n",
      "         [0.0000, 0.0000, 0.0000, 0.0000, 0.0000, 0.0000, 0.0000, 0.0000,\n",
      "          0.0000, 0.0000, 0.0000, 0.0000, 0.0000, 0.0000, 0.0000, 0.0000,\n",
      "          0.0000, 0.9765, 0.9922, 0.9765, 0.2510, 0.0000, 0.0000, 0.0000,\n",
      "          0.0000, 0.0000, 0.0000, 0.0000],\n",
      "         [0.0000, 0.0000, 0.0000, 0.0000, 0.0000, 0.0000, 0.0000, 0.0000,\n",
      "          0.0000, 0.0000, 0.0000, 0.0000, 0.0000, 0.0000, 0.1804, 0.5098,\n",
      "          0.7176, 0.9922, 0.9922, 0.8118, 0.0078, 0.0000, 0.0000, 0.0000,\n",
      "          0.0000, 0.0000, 0.0000, 0.0000],\n",
      "         [0.0000, 0.0000, 0.0000, 0.0000, 0.0000, 0.0000, 0.0000, 0.0000,\n",
      "          0.0000, 0.0000, 0.0000, 0.0000, 0.1529, 0.5804, 0.8980, 0.9922,\n",
      "          0.9922, 0.9922, 0.9804, 0.7137, 0.0000, 0.0000, 0.0000, 0.0000,\n",
      "          0.0000, 0.0000, 0.0000, 0.0000],\n",
      "         [0.0000, 0.0000, 0.0000, 0.0000, 0.0000, 0.0000, 0.0000, 0.0000,\n",
      "          0.0000, 0.0000, 0.0941, 0.4471, 0.8667, 0.9922, 0.9922, 0.9922,\n",
      "          0.9922, 0.7882, 0.3059, 0.0000, 0.0000, 0.0000, 0.0000, 0.0000,\n",
      "          0.0000, 0.0000, 0.0000, 0.0000],\n",
      "         [0.0000, 0.0000, 0.0000, 0.0000, 0.0000, 0.0000, 0.0000, 0.0000,\n",
      "          0.0902, 0.2588, 0.8353, 0.9922, 0.9922, 0.9922, 0.9922, 0.7765,\n",
      "          0.3176, 0.0078, 0.0000, 0.0000, 0.0000, 0.0000, 0.0000, 0.0000,\n",
      "          0.0000, 0.0000, 0.0000, 0.0000],\n",
      "         [0.0000, 0.0000, 0.0000, 0.0000, 0.0000, 0.0000, 0.0706, 0.6706,\n",
      "          0.8588, 0.9922, 0.9922, 0.9922, 0.9922, 0.7647, 0.3137, 0.0353,\n",
      "          0.0000, 0.0000, 0.0000, 0.0000, 0.0000, 0.0000, 0.0000, 0.0000,\n",
      "          0.0000, 0.0000, 0.0000, 0.0000],\n",
      "         [0.0000, 0.0000, 0.0000, 0.0000, 0.2157, 0.6745, 0.8863, 0.9922,\n",
      "          0.9922, 0.9922, 0.9922, 0.9569, 0.5216, 0.0431, 0.0000, 0.0000,\n",
      "          0.0000, 0.0000, 0.0000, 0.0000, 0.0000, 0.0000, 0.0000, 0.0000,\n",
      "          0.0000, 0.0000, 0.0000, 0.0000],\n",
      "         [0.0000, 0.0000, 0.0000, 0.0000, 0.5333, 0.9922, 0.9922, 0.9922,\n",
      "          0.8314, 0.5294, 0.5176, 0.0627, 0.0000, 0.0000, 0.0000, 0.0000,\n",
      "          0.0000, 0.0000, 0.0000, 0.0000, 0.0000, 0.0000, 0.0000, 0.0000,\n",
      "          0.0000, 0.0000, 0.0000, 0.0000],\n",
      "         [0.0000, 0.0000, 0.0000, 0.0000, 0.0000, 0.0000, 0.0000, 0.0000,\n",
      "          0.0000, 0.0000, 0.0000, 0.0000, 0.0000, 0.0000, 0.0000, 0.0000,\n",
      "          0.0000, 0.0000, 0.0000, 0.0000, 0.0000, 0.0000, 0.0000, 0.0000,\n",
      "          0.0000, 0.0000, 0.0000, 0.0000],\n",
      "         [0.0000, 0.0000, 0.0000, 0.0000, 0.0000, 0.0000, 0.0000, 0.0000,\n",
      "          0.0000, 0.0000, 0.0000, 0.0000, 0.0000, 0.0000, 0.0000, 0.0000,\n",
      "          0.0000, 0.0000, 0.0000, 0.0000, 0.0000, 0.0000, 0.0000, 0.0000,\n",
      "          0.0000, 0.0000, 0.0000, 0.0000],\n",
      "         [0.0000, 0.0000, 0.0000, 0.0000, 0.0000, 0.0000, 0.0000, 0.0000,\n",
      "          0.0000, 0.0000, 0.0000, 0.0000, 0.0000, 0.0000, 0.0000, 0.0000,\n",
      "          0.0000, 0.0000, 0.0000, 0.0000, 0.0000, 0.0000, 0.0000, 0.0000,\n",
      "          0.0000, 0.0000, 0.0000, 0.0000]]])\n"
     ]
    }
   ],
   "source": [
    "print(image)"
   ]
  },
  {
   "cell_type": "code",
   "execution_count": 19,
   "id": "a7e3db15",
   "metadata": {},
   "outputs": [
    {
     "data": {
      "image/png": "[encoded data removed]",
      "text/plain": [
       "<Figure size 640x480 with 1 Axes>"
      ]
     },
     "metadata": {},
     "output_type": "display_data"
    }
   ],
   "source": [
    "plt.imshow(image.squeeze(), cmap=\"gray\")\n",
    "plt.title(f\"Label: {label}\")\n",
    "plt.axis(\"off\")\n",
    "plt.show()"
   ]
  },
  {
   "cell_type": "code",
   "execution_count": 20,
   "id": "0be8f5eb",
   "metadata": {},
   "outputs": [],
   "source": [
    "train_loader = torch.utils.data.DataLoader(train_data, batch_size=1, shuffle=True)"
   ]
  },
  {
   "cell_type": "code",
   "execution_count": 21,
   "id": "f57636c2",
   "metadata": {},
   "outputs": [
    {
     "name": "stdout",
     "output_type": "stream",
     "text": [
      "Epoch 1, Loss = 16592.2960\n",
      "Epoch 2, Loss = 11543.5873\n",
      "Epoch 3, Loss = 10215.3016\n",
      "Epoch 4, Loss = 8951.9693\n",
      "Epoch 5, Loss = 8701.6863\n",
      "Epoch 6, Loss = 7913.6963\n",
      "Epoch 7, Loss = 7753.4780\n",
      "Epoch 8, Loss = 7725.9884\n",
      "Epoch 9, Loss = 7927.3069\n",
      "Epoch 10, Loss = 7830.0075\n"
     ]
    }
   ],
   "source": [
    "device = \"cuda\" if torch.cuda.is_available() else \"cpu\"\n",
    "\n",
    "model = nn.Sequential(\n",
    "    nn.Linear(28*28, 512),\n",
    "    nn.ReLU(),\n",
    "    nn.Linear(512, 512),\n",
    "    nn.ReLU(),\n",
    "    nn.Linear(512, 10)\n",
    ")\n",
    "model = model.to(device)\n",
    "\n",
    "criterion = nn.CrossEntropyLoss()\n",
    "optimizer = optim.Adam(model.parameters(), lr=0.001)\n",
    "\n",
    "for epoch in range(10):\n",
    "    total_loss = 0\n",
    "\n",
    "    for images, labels in train_loader:\n",
    "        images, labels = images.to(device), labels.to(device)\n",
    "        images = images.view(images.size(0), -1)\n",
    "\n",
    "        optimizer.zero_grad()\n",
    "\n",
    "        # Forward pass\n",
    "        preds = model(images)\n",
    "        loss = criterion(preds, labels)\n",
    "\n",
    "        # Backward pass\n",
    "        loss.backward()\n",
    "\n",
    "        # Update the weights and biases\n",
    "        optimizer.step()\n",
    "\n",
    "        total_loss += loss.item()\n",
    "\n",
    "    print(f\"Epoch {epoch+1}, Loss = {total_loss:.4f}\")"
   ]
  },
  {
   "cell_type": "markdown",
   "id": "38500367",
   "metadata": {},
   "source": [
    "## Convolutional Layer"
   ]
  },
  {
   "cell_type": "markdown",
   "id": "5633dbc5",
   "metadata": {},
   "source": [
    "### Initialize input, weights and bias"
   ]
  },
  {
   "cell_type": "code",
   "execution_count": 22,
   "id": "520d77da",
   "metadata": {},
   "outputs": [],
   "source": [
    "X = np.random.randint(0, 255, (28, 28))\n",
    "\n",
    "W = np.array([\n",
    "    [0.2, -0.5],\n",
    "    [0.3, 0.1]\n",
    "])\n",
    "b = 0.0"
   ]
  },
  {
   "cell_type": "markdown",
   "id": "0a2ebbaf",
   "metadata": {},
   "source": [
    "### Forward pass"
   ]
  },
  {
   "cell_type": "code",
   "execution_count": 23,
   "id": "a0479cf8",
   "metadata": {},
   "outputs": [
    {
     "name": "stdout",
     "output_type": "stream",
     "text": [
      "Output (Z):\n",
      " [[ 4.440e+01  1.070e+01  5.880e+01 -3.040e+01 -1.000e-01  1.126e+02\n",
      "   1.340e+01 -1.070e+01  1.590e+01 -7.800e+00  3.900e+00  6.250e+01\n",
      "  -6.270e+01 -1.020e+01 -5.320e+01  4.100e+00 -6.000e+00 -5.100e+00\n",
      "   2.100e+01  6.240e+01 -5.140e+01 -1.510e+01  5.010e+01 -5.930e+01\n",
      "   3.300e+00  6.600e+00  7.950e+01]\n",
      " [ 5.670e+01 -3.960e+01 -2.270e+01 -2.630e+01 -7.610e+01 -6.400e+00\n",
      "   7.560e+01  4.790e+01  5.030e+01  1.510e+01  4.650e+01 -1.930e+01\n",
      "  -3.880e+01  2.720e+01  1.540e+01 -3.690e+01  2.410e+01 -2.230e+01\n",
      "   4.670e+01  8.060e+01 -3.560e+01  8.430e+01 -6.640e+01  7.260e+01\n",
      "  -6.000e+00 -6.900e+01 -5.900e+01]\n",
      " [-3.370e+01  7.510e+01  4.970e+01  4.930e+01  3.550e+01 -7.300e+00\n",
      "   1.010e+01 -5.460e+01  6.080e+01 -2.710e+01  6.230e+01  5.500e+00\n",
      "   6.600e+00  8.780e+01  2.430e+01  5.800e+01 -1.026e+02 -3.620e+01\n",
      "  -4.530e+01  1.117e+02 -2.700e+00  4.780e+01 -7.500e+00  1.083e+02\n",
      "   4.100e+01  4.320e+01  1.180e+01]\n",
      " [-3.100e+00 -2.970e+01  3.120e+01 -3.080e+01 -5.050e+01  5.830e+01\n",
      "   4.560e+01  3.870e+01 -4.710e+01  7.700e+00  1.360e+01 -9.400e+00\n",
      "  -5.090e+01 -4.920e+01  3.460e+01  9.140e+01  4.940e+01  5.000e-01\n",
      "   1.910e+01  4.900e+00  3.040e+01  6.440e+01 -1.190e+01 -8.500e+00\n",
      "   8.550e+01 -3.580e+01  5.640e+01]\n",
      " [-1.000e+00  1.800e+00  9.940e+01  4.930e+01  3.870e+01 -6.090e+01\n",
      "  -3.890e+01  7.570e+01  9.000e+01  5.120e+01  3.350e+01  7.920e+01\n",
      "  -5.300e+00  1.440e+01 -4.110e+01 -1.500e+00  7.290e+01 -5.360e+01\n",
      "  -4.630e+01  3.360e+01  1.060e+01 -1.990e+01  2.800e+00  7.500e+00\n",
      "  -5.370e+01  6.100e+01 -5.140e+01]\n",
      " [-1.950e+01 -2.900e+00 -7.600e+00  2.670e+01  7.790e+01  6.190e+01\n",
      "  -9.030e+01 -2.230e+01 -7.010e+01  6.530e+01 -3.360e+01  5.300e+01\n",
      "  -3.100e+00  6.070e+01  8.250e+01 -2.900e+00  2.800e+00  4.960e+01\n",
      "   1.110e+01 -4.580e+01 -2.020e+01  5.320e+01  1.490e+01  6.550e+01\n",
      "   2.160e+01 -7.100e+00  5.650e+01]\n",
      " [ 2.200e+00  8.520e+01 -3.670e+01  3.200e+00 -5.100e+00  6.450e+01\n",
      "   5.770e+01 -7.300e+00 -7.400e+00  8.500e+00 -6.070e+01  7.900e+01\n",
      "  -6.700e+01 -7.300e+00  5.100e+00  7.880e+01 -6.220e+01  9.170e+01\n",
      "  -9.900e+00  1.100e+01  6.300e+00 -4.100e+00 -2.270e+01  1.540e+01\n",
      "   1.210e+01  9.400e+01 -8.120e+01]\n",
      " [-2.520e+01 -1.740e+01 -4.320e+01  3.660e+01  6.500e+00 -1.700e+01\n",
      "   9.130e+01  8.340e+01 -2.900e+01  5.610e+01  1.060e+01  1.017e+02\n",
      "  -2.960e+01  1.940e+01 -2.180e+01  9.580e+01 -2.090e+01  7.600e+01\n",
      "   1.900e+01  3.560e+01 -1.560e+01  6.700e+01  1.150e+01 -6.450e+01\n",
      "  -1.900e+00  3.250e+01 -3.860e+01]\n",
      " [ 6.850e+01  8.200e+00 -3.300e+01 -2.220e+01 -8.000e+00  1.800e+01\n",
      "  -6.400e+01 -4.000e+00  7.390e+01 -4.030e+01 -5.340e+01  5.200e+00\n",
      "  -8.300e+00  1.170e+01 -3.750e+01 -1.160e+01 -1.980e+01  5.600e+01\n",
      "  -2.660e+01  5.730e+01  2.800e+00 -1.390e+01  4.760e+01  3.680e+01\n",
      "   6.900e+00  3.700e+00  2.730e+01]\n",
      " [ 5.440e+01  1.890e+01  1.070e+02 -1.190e+01  4.920e+01  1.340e+01\n",
      "   2.220e+01 -5.750e+01  4.630e+01  1.010e+02  3.000e-01 -1.100e+01\n",
      "   1.010e+01  1.930e+01 -2.130e+01  8.190e+01 -2.590e+01 -2.760e+01\n",
      "   5.340e+01  7.040e+01 -7.090e+01  8.800e+00  3.000e+00  5.030e+01\n",
      "   1.105e+02  1.800e+01 -6.220e+01]\n",
      " [ 5.670e+01 -8.680e+01 -1.900e+00  5.830e+01 -4.990e+01  9.220e+01\n",
      "   5.900e+01  2.940e+01 -5.930e+01  2.760e+01  4.570e+01  1.860e+01\n",
      "   8.500e+00  6.420e+01 -2.880e+01  9.900e+00  2.590e+01  5.900e+00\n",
      "  -9.900e+00  5.560e+01  1.420e+01 -1.850e+01 -5.870e+01 -3.320e+01\n",
      "   2.320e+01  1.500e+01  1.970e+01]\n",
      " [ 5.630e+01 -4.580e+01  7.400e+01  6.140e+01 -5.890e+01 -2.490e+01\n",
      "   1.020e+01  5.050e+01 -2.980e+01 -1.300e+01  9.960e+01  3.770e+01\n",
      "  -5.100e+01 -4.400e+00  8.100e+00  5.960e+01 -7.270e+01 -4.260e+01\n",
      "   3.580e+01  3.900e+00  7.250e+01  8.260e+01 -2.550e+01 -2.640e+01\n",
      "   1.076e+02  9.900e+00  4.960e+01]\n",
      " [ 9.910e+01 -4.460e+01 -2.270e+01  1.900e+00  2.270e+01  5.100e+00\n",
      "   2.450e+01 -8.800e+00  1.650e+01 -8.860e+01  1.720e+01  2.550e+01\n",
      "  -4.070e+01 -3.800e+00 -4.040e+01  3.450e+01 -1.450e+01  3.610e+01\n",
      "   1.280e+01 -7.300e+01 -7.900e+00  6.500e+01 -1.070e+01  3.680e+01\n",
      "   6.630e+01 -1.790e+01 -5.700e+01]\n",
      " [ 6.030e+01  3.440e+01  1.890e+01  5.860e+01 -1.320e+01  4.380e+01\n",
      "  -5.740e+01  4.030e+01  5.180e+01  2.730e+01 -8.790e+01  1.002e+02\n",
      "   6.520e+01  6.990e+01  6.790e+01 -1.920e+01  5.050e+01 -3.020e+01\n",
      "   6.480e+01 -5.130e+01  1.022e+02 -7.500e+00 -4.100e+00 -3.870e+01\n",
      "   5.000e-01  6.150e+01 -1.000e+00]\n",
      " [-2.320e+01  4.730e+01  9.500e+00  8.160e+01 -4.390e+01  5.680e+01\n",
      "   6.010e+01 -1.280e+01  3.620e+01  9.330e+01 -2.390e+01 -1.700e+01\n",
      "   1.930e+01 -4.500e+01  9.260e+01  5.800e+01 -3.120e+01  6.590e+01\n",
      "   5.100e+00 -5.270e+01 -2.850e+01 -3.570e+01  7.030e+01 -1.560e+01\n",
      "   9.060e+01 -3.360e+01  5.440e+01]\n",
      " [ 2.000e-01 -1.030e+01 -3.390e+01 -4.230e+01  5.130e+01 -2.110e+01\n",
      "   5.010e+01 -5.760e+01 -3.450e+01  5.130e+01 -7.560e+01  4.190e+01\n",
      "   5.800e+00 -8.900e+00  2.000e+00 -3.720e+01  6.460e+01  3.840e+01\n",
      "   4.060e+01 -3.200e+00  1.420e+01 -5.790e+01  1.830e+01 -6.460e+01\n",
      "   3.880e+01  1.320e+01  1.930e+01]\n",
      " [ 2.470e+01  2.550e+01  1.650e+01  2.680e+01 -2.790e+01  3.340e+01\n",
      "   3.580e+01  1.680e+01  2.090e+01  4.200e+00  3.770e+01 -3.690e+01\n",
      "  -4.590e+01  1.640e+01 -8.900e+00 -5.930e+01  4.470e+01  4.090e+01\n",
      "  -6.900e+00  1.028e+02  4.670e+01  3.350e+01  2.220e+01 -2.450e+01\n",
      "   2.760e+01  7.580e+01 -7.300e+00]\n",
      " [-4.220e+01  9.530e+01  2.060e+01  3.900e+01 -5.620e+01  1.340e+01\n",
      "   6.080e+01 -1.230e+01  2.600e+01 -5.220e+01  8.790e+01  8.200e+00\n",
      "   2.550e+01  4.250e+01  2.120e+01 -9.000e+00  7.390e+01  5.360e+01\n",
      "  -3.610e+01 -3.460e+01  9.700e+00  4.220e+01  1.720e+01  6.690e+01\n",
      "  -2.750e+01  9.550e+01  5.770e+01]\n",
      " [ 7.000e+00 -3.600e+01  1.640e+01  7.400e+00  6.080e+01 -9.090e+01\n",
      "   1.600e+01  1.550e+01  6.330e+01 -5.130e+01  1.133e+02 -4.070e+01\n",
      "   2.280e+01  1.130e+01 -3.950e+01  1.280e+01 -3.860e+01  9.400e+00\n",
      "   4.400e+01  5.160e+01 -7.220e+01  9.100e+00 -4.060e+01  1.780e+01\n",
      "  -5.800e+01 -3.290e+01  4.970e+01]\n",
      " [ 1.340e+01 -3.690e+01 -1.400e+00  3.550e+01  8.560e+01  3.600e+00\n",
      "   5.330e+01 -4.480e+01  4.820e+01 -2.340e+01  4.570e+01  8.170e+01\n",
      "  -1.070e+01  3.980e+01  2.250e+01  1.440e+01  3.010e+01  8.900e+01\n",
      "  -1.730e+01  2.640e+01 -1.600e+01  1.570e+01 -2.560e+01  5.840e+01\n",
      "   4.700e+01  2.700e+00  6.440e+01]\n",
      " [-6.400e+00  6.010e+01 -6.350e+01  1.010e+01  4.060e+01  5.410e+01\n",
      "   2.100e+01  1.560e+01 -3.800e+01 -5.230e+01  2.860e+01 -4.190e+01\n",
      "   5.500e+00 -9.300e+00  6.030e+01 -7.090e+01  2.190e+01  4.930e+01\n",
      "   7.910e+01  1.570e+01 -9.500e+00  8.120e+01 -2.220e+01 -5.020e+01\n",
      "  -3.060e+01  5.410e+01 -5.440e+01]\n",
      " [ 2.250e+01 -2.430e+01  8.100e+00 -1.410e+01 -8.890e+01  9.000e+00\n",
      "   5.950e+01  8.170e+01  3.560e+01  4.260e+01  5.900e+00  3.620e+01\n",
      "   2.680e+01 -6.780e+01  5.550e+01 -7.860e+01  4.910e+01 -3.500e+00\n",
      "   5.700e+01  4.200e+01 -3.380e+01  6.850e+01  1.510e+01  3.820e+01\n",
      "  -5.540e+01  4.720e+01  5.840e+01]\n",
      " [ 3.450e+01  7.120e+01  3.440e+01  1.125e+02  2.890e+01 -1.039e+02\n",
      "  -3.600e+01  5.510e+01  7.000e-01  1.070e+01 -3.900e+00 -6.000e-01\n",
      "   8.630e+01  2.890e+01  4.900e+01 -2.070e+01  5.300e+00  5.810e+01\n",
      "  -2.300e+01  6.850e+01  5.240e+01  3.000e-01  5.590e+01 -4.320e+01\n",
      "   7.450e+01 -4.370e+01 -4.530e+01]\n",
      " [ 5.900e+00 -2.610e+01 -8.200e+00 -7.100e+00  2.940e+01  1.990e+01\n",
      "  -3.470e+01 -7.980e+01  3.200e+01  3.730e+01  2.980e+01 -3.650e+01\n",
      "  -2.690e+01 -2.000e-01  5.600e+01 -7.400e+01 -2.600e+00  2.850e+01\n",
      "  -1.380e+01 -4.730e+01  3.900e+00  1.280e+01  1.730e+01 -2.340e+01\n",
      "   4.890e+01  4.700e+01 -8.900e+01]\n",
      " [ 7.390e+01 -4.650e+01  1.045e+02 -8.900e+00  1.580e+01 -1.330e+01\n",
      "   6.250e+01  6.240e+01 -7.360e+01  6.810e+01  3.750e+01  9.170e+01\n",
      "   2.310e+01  7.060e+01  5.610e+01 -1.500e+00 -3.110e+01  6.810e+01\n",
      "   3.600e+00 -5.700e+00  2.350e+01  1.560e+01 -4.800e+01  3.740e+01\n",
      "  -6.840e+01  7.260e+01 -7.200e+00]\n",
      " [ 4.900e+01 -9.600e+00  9.270e+01  5.760e+01  5.100e+00  2.620e+01\n",
      "  -1.140e+01  5.430e+01 -6.900e+00 -6.010e+01 -2.830e+01  3.800e+00\n",
      "  -4.040e+01 -1.020e+01  8.400e+00  6.560e+01 -1.500e+00 -5.710e+01\n",
      "   6.730e+01  2.400e+00  9.190e+01  4.310e+01  2.340e+01  1.110e+01\n",
      "  -1.510e+01  2.900e+01  7.080e+01]\n",
      " [-5.380e+01 -3.540e+01  1.370e+01  5.430e+01  1.120e+01 -4.100e+01\n",
      "   3.740e+01 -8.410e+01  4.820e+01 -5.100e+00  1.640e+01  9.970e+01\n",
      "   2.550e+01 -1.600e+01  3.760e+01  2.630e+01  7.110e+01 -7.890e+01\n",
      "   3.460e+01 -2.540e+01  1.090e+01 -5.900e+00  6.120e+01  4.140e+01\n",
      "   5.620e+01 -1.960e+01  7.400e+01]]\n",
      "\n",
      "Shape after convolutional layer: (27, 27)\n"
     ]
    }
   ],
   "source": [
    "# Convolutional layer\n",
    "kernel_size = 2\n",
    "padding = 0\n",
    "stride = 1\n",
    "\n",
    "H_out, W_out = (X.shape[0] + 2 * padding - kernel_size) // stride + 1, (X.shape[1] + 2 * padding - kernel_size) // stride + 1\n",
    "Z = np.zeros((H_out, W_out))\n",
    "for i in range(H_out):\n",
    "    for j in range(W_out):\n",
    "        conv_region = X[i:i+kernel_size, j:j+kernel_size]\n",
    "        Z[i, j] = np.sum(W * conv_region) + b\n",
    "\n",
    "print(\"Output (Z):\\n\", Z)\n",
    "print(\"\\nShape after convolutional layer:\", Z.shape)"
   ]
  },
  {
   "cell_type": "code",
   "execution_count": 24,
   "id": "07a32342",
   "metadata": {},
   "outputs": [
    {
     "name": "stdout",
     "output_type": "stream",
     "text": [
      "Output after ReLU (Z):\n",
      " [[ 44.4  10.7  58.8   0.    0.  112.6  13.4   0.   15.9   0.    3.9  62.5\n",
      "    0.    0.    0.    4.1   0.    0.   21.   62.4   0.    0.   50.1   0.\n",
      "    3.3   6.6  79.5]\n",
      " [ 56.7   0.    0.    0.    0.    0.   75.6  47.9  50.3  15.1  46.5   0.\n",
      "    0.   27.2  15.4   0.   24.1   0.   46.7  80.6   0.   84.3   0.   72.6\n",
      "    0.    0.    0. ]\n",
      " [  0.   75.1  49.7  49.3  35.5   0.   10.1   0.   60.8   0.   62.3   5.5\n",
      "    6.6  87.8  24.3  58.    0.    0.    0.  111.7   0.   47.8   0.  108.3\n",
      "   41.   43.2  11.8]\n",
      " [  0.    0.   31.2   0.    0.   58.3  45.6  38.7   0.    7.7  13.6   0.\n",
      "    0.    0.   34.6  91.4  49.4   0.5  19.1   4.9  30.4  64.4   0.    0.\n",
      "   85.5   0.   56.4]\n",
      " [  0.    1.8  99.4  49.3  38.7   0.    0.   75.7  90.   51.2  33.5  79.2\n",
      "    0.   14.4   0.    0.   72.9   0.    0.   33.6  10.6   0.    2.8   7.5\n",
      "    0.   61.    0. ]\n",
      " [  0.    0.    0.   26.7  77.9  61.9   0.    0.    0.   65.3   0.   53.\n",
      "    0.   60.7  82.5   0.    2.8  49.6  11.1   0.    0.   53.2  14.9  65.5\n",
      "   21.6   0.   56.5]\n",
      " [  2.2  85.2   0.    3.2   0.   64.5  57.7   0.    0.    8.5   0.   79.\n",
      "    0.    0.    5.1  78.8   0.   91.7   0.   11.    6.3   0.    0.   15.4\n",
      "   12.1  94.    0. ]\n",
      " [  0.    0.    0.   36.6   6.5   0.   91.3  83.4   0.   56.1  10.6 101.7\n",
      "    0.   19.4   0.   95.8   0.   76.   19.   35.6   0.   67.   11.5   0.\n",
      "    0.   32.5   0. ]\n",
      " [ 68.5   8.2   0.    0.    0.   18.    0.    0.   73.9   0.    0.    5.2\n",
      "    0.   11.7   0.    0.    0.   56.    0.   57.3   2.8   0.   47.6  36.8\n",
      "    6.9   3.7  27.3]\n",
      " [ 54.4  18.9 107.    0.   49.2  13.4  22.2   0.   46.3 101.    0.3   0.\n",
      "   10.1  19.3   0.   81.9   0.    0.   53.4  70.4   0.    8.8   3.   50.3\n",
      "  110.5  18.    0. ]\n",
      " [ 56.7   0.    0.   58.3   0.   92.2  59.   29.4   0.   27.6  45.7  18.6\n",
      "    8.5  64.2   0.    9.9  25.9   5.9   0.   55.6  14.2   0.    0.    0.\n",
      "   23.2  15.   19.7]\n",
      " [ 56.3   0.   74.   61.4   0.    0.   10.2  50.5   0.    0.   99.6  37.7\n",
      "    0.    0.    8.1  59.6   0.    0.   35.8   3.9  72.5  82.6   0.    0.\n",
      "  107.6   9.9  49.6]\n",
      " [ 99.1   0.    0.    1.9  22.7   5.1  24.5   0.   16.5   0.   17.2  25.5\n",
      "    0.    0.    0.   34.5   0.   36.1  12.8   0.    0.   65.    0.   36.8\n",
      "   66.3   0.    0. ]\n",
      " [ 60.3  34.4  18.9  58.6   0.   43.8   0.   40.3  51.8  27.3   0.  100.2\n",
      "   65.2  69.9  67.9   0.   50.5   0.   64.8   0.  102.2   0.    0.    0.\n",
      "    0.5  61.5   0. ]\n",
      " [  0.   47.3   9.5  81.6   0.   56.8  60.1   0.   36.2  93.3   0.    0.\n",
      "   19.3   0.   92.6  58.    0.   65.9   5.1   0.    0.    0.   70.3   0.\n",
      "   90.6   0.   54.4]\n",
      " [  0.2   0.    0.    0.   51.3   0.   50.1   0.    0.   51.3   0.   41.9\n",
      "    5.8   0.    2.    0.   64.6  38.4  40.6   0.   14.2   0.   18.3   0.\n",
      "   38.8  13.2  19.3]\n",
      " [ 24.7  25.5  16.5  26.8   0.   33.4  35.8  16.8  20.9   4.2  37.7   0.\n",
      "    0.   16.4   0.    0.   44.7  40.9   0.  102.8  46.7  33.5  22.2   0.\n",
      "   27.6  75.8   0. ]\n",
      " [  0.   95.3  20.6  39.    0.   13.4  60.8   0.   26.    0.   87.9   8.2\n",
      "   25.5  42.5  21.2   0.   73.9  53.6   0.    0.    9.7  42.2  17.2  66.9\n",
      "    0.   95.5  57.7]\n",
      " [  7.    0.   16.4   7.4  60.8   0.   16.   15.5  63.3   0.  113.3   0.\n",
      "   22.8  11.3   0.   12.8   0.    9.4  44.   51.6   0.    9.1   0.   17.8\n",
      "    0.    0.   49.7]\n",
      " [ 13.4   0.    0.   35.5  85.6   3.6  53.3   0.   48.2   0.   45.7  81.7\n",
      "    0.   39.8  22.5  14.4  30.1  89.    0.   26.4   0.   15.7   0.   58.4\n",
      "   47.    2.7  64.4]\n",
      " [  0.   60.1   0.   10.1  40.6  54.1  21.   15.6   0.    0.   28.6   0.\n",
      "    5.5   0.   60.3   0.   21.9  49.3  79.1  15.7   0.   81.2   0.    0.\n",
      "    0.   54.1   0. ]\n",
      " [ 22.5   0.    8.1   0.    0.    9.   59.5  81.7  35.6  42.6   5.9  36.2\n",
      "   26.8   0.   55.5   0.   49.1   0.   57.   42.    0.   68.5  15.1  38.2\n",
      "    0.   47.2  58.4]\n",
      " [ 34.5  71.2  34.4 112.5  28.9   0.    0.   55.1   0.7  10.7   0.    0.\n",
      "   86.3  28.9  49.    0.    5.3  58.1   0.   68.5  52.4   0.3  55.9   0.\n",
      "   74.5   0.    0. ]\n",
      " [  5.9   0.    0.    0.   29.4  19.9   0.    0.   32.   37.3  29.8   0.\n",
      "    0.    0.   56.    0.    0.   28.5   0.    0.    3.9  12.8  17.3   0.\n",
      "   48.9  47.    0. ]\n",
      " [ 73.9   0.  104.5   0.   15.8   0.   62.5  62.4   0.   68.1  37.5  91.7\n",
      "   23.1  70.6  56.1   0.    0.   68.1   3.6   0.   23.5  15.6   0.   37.4\n",
      "    0.   72.6   0. ]\n",
      " [ 49.    0.   92.7  57.6   5.1  26.2   0.   54.3   0.    0.    0.    3.8\n",
      "    0.    0.    8.4  65.6   0.    0.   67.3   2.4  91.9  43.1  23.4  11.1\n",
      "    0.   29.   70.8]\n",
      " [  0.    0.   13.7  54.3  11.2   0.   37.4   0.   48.2   0.   16.4  99.7\n",
      "   25.5   0.   37.6  26.3  71.1   0.   34.6   0.   10.9   0.   61.2  41.4\n",
      "   56.2   0.   74. ]]\n",
      "\n",
      "Shape after ReLU: (27, 27)\n"
     ]
    }
   ],
   "source": [
    "# Activation function (ReLU)\n",
    "A = np.maximum(0, Z)\n",
    "print(\"Output after ReLU (Z):\\n\", A)\n",
    "print(\"\\nShape after ReLU:\", A.shape)"
   ]
  },
  {
   "cell_type": "code",
   "execution_count": 25,
   "id": "fe1fe4c5",
   "metadata": {},
   "outputs": [
    {
     "name": "stdout",
     "output_type": "stream",
     "text": [
      "Output after max-pooling layer (P):\n",
      " [[ 56.7  58.8 112.6  75.6  50.3  62.5  27.2  15.4  24.1  80.6  84.3  72.6\n",
      "    6.6]\n",
      " [ 75.1  49.7  58.3  45.6  60.8  62.3  87.8  91.4  49.4 111.7  64.4 108.3\n",
      "   85.5]\n",
      " [  1.8  99.4  77.9  75.7  90.   79.2  60.7  82.5  72.9  33.6  53.2  65.5\n",
      "   61. ]\n",
      " [ 85.2  36.6  64.5  91.3  56.1 101.7  19.4  95.8  91.7  35.6  67.   15.4\n",
      "   94. ]\n",
      " [ 68.5 107.   49.2  22.2 101.    5.2  19.3  81.9  56.   70.4   8.8  50.3\n",
      "  110.5]\n",
      " [ 56.7  74.   92.2  59.   27.6  99.6  64.2  59.6  25.9  55.6  82.6   0.\n",
      "  107.6]\n",
      " [ 99.1  58.6  43.8  40.3  51.8 100.2  69.9  67.9  50.5  64.8 102.2  36.8\n",
      "   66.3]\n",
      " [ 47.3  81.6  56.8  60.1  93.3  41.9  19.3  92.6  65.9  40.6  14.2  70.3\n",
      "   90.6]\n",
      " [ 95.3  39.   33.4  60.8  26.   87.9  42.5  21.2  73.9 102.8  46.7  66.9\n",
      "   95.5]\n",
      " [ 13.4  35.5  85.6  53.3  63.3 113.3  39.8  22.5  89.   51.6  15.7  58.4\n",
      "   47. ]\n",
      " [ 60.1  10.1  54.1  81.7  42.6  36.2  26.8  60.3  49.3  79.1  81.2  38.2\n",
      "   54.1]\n",
      " [ 71.2 112.5  29.4  55.1  37.3  29.8  86.3  56.   58.1  68.5  52.4  55.9\n",
      "   74.5]\n",
      " [ 73.9 104.5  26.2  62.5  68.1  91.7  70.6  65.6  68.1  67.3  91.9  37.4\n",
      "   72.6]]\n",
      "\n",
      "Shape after max-pooling layer: (13, 13)\n"
     ]
    }
   ],
   "source": [
    "# MaxPool 2x2 layer\n",
    "pool_size = 2\n",
    "pool_stride = 2\n",
    "H_out, W_out = (A.shape[0] - pool_size) // pool_stride + 1, (A.shape[1] - pool_size) // pool_stride + 1\n",
    "\n",
    "P = np.zeros((H_out, W_out))\n",
    "for i in range(H_out):\n",
    "    for j in range(W_out):\n",
    "        pool_region = A[i*pool_stride:i*pool_stride+pool_size, j*pool_stride:j*pool_stride+pool_size]\n",
    "        P[i,j] = np.max(pool_region)\n",
    "        \n",
    "print(\"Output after max-pooling layer (P):\\n\", P)\n",
    "print(\"\\nShape after max-pooling layer:\", P.shape)"
   ]
  },
  {
   "cell_type": "markdown",
   "id": "7b34647b",
   "metadata": {},
   "source": [
    "### CNN for image classification\n"
   ]
  },
  {
   "cell_type": "code",
   "execution_count": 26,
   "id": "e85629c2",
   "metadata": {},
   "outputs": [
    {
     "name": "stdout",
     "output_type": "stream",
     "text": [
      "x_train shape: torch.Size([3000, 2])\n",
      "y_train shape: torch.Size([3000])\n"
     ]
    }
   ],
   "source": [
    "transform = transforms.ToTensor()\n",
    "\n",
    "train_data = datasets.MNIST(root=\"./data\", train=True, download=False, transform=transform)\n",
    "\n",
    "train_loader = torch.utils.data.DataLoader(train_data, batch_size=1, shuffle=True)\n",
    "\n",
    "print(\"x_train shape:\", x_train.shape)\n",
    "print(\"y_train shape:\", y_train.shape)"
   ]
  },
  {
   "cell_type": "code",
   "execution_count": null,
   "id": "e16e4f9e",
   "metadata": {},
   "outputs": [],
   "source": [
    "class CNN(nn.Module):\n",
    "    def __init__(self):\n",
    "        super(CNN, self).__init__()\n",
    "        self.conv1 = nn.Conv2d(in_channels=1, out_channels=32, kernel_size=3, stride=1, padding=1)\n",
    "        self.conv2 = nn.Conv2d(in_channels=32, out_channels=64, kernel_size=3, stride=1, padding=1)\n",
    "        self.pool = nn.MaxPool2d(kernel_size=2, stride=2)\n",
    "        self.relu = nn.ReLU()\n",
    "        self.fc1 = nn.Linear(64 * 7 * 7, 128)\n",
    "        self.fc2 = nn.Linear(128, 10)\n",
    "\n",
    "    def forward(self, x):\n",
    "        x = self.conv1(x)\n",
    "        x = self.relu(x)\n",
    "        x = self.pool(x)\n",
    "        x = self.conv2(x)\n",
    "        x = self.relu(x)\n",
    "        x = self.pool(x)\n",
    "        x = x.view(x.size(0), -1)  # Flattening\n",
    "        x = self.fc1(x)\n",
    "        x = self.relu(x)\n",
    "        x = self.fc2(x)\n",
    "\n",
    "        return x"
   ]
  },
  {
   "cell_type": "code",
   "execution_count": 28,
   "id": "7637a38d",
   "metadata": {},
   "outputs": [
    {
     "name": "stdout",
     "output_type": "stream",
     "text": [
      "Epoch 1, Loss = 7259.8032\n",
      "Epoch 2, Loss = 3665.3226\n",
      "Epoch 3, Loss = 3125.3977\n",
      "Epoch 4, Loss = 2748.4966\n",
      "Epoch 5, Loss = 2593.4279\n",
      "Epoch 6, Loss = 2702.0485\n",
      "Epoch 7, Loss = 2404.9604\n",
      "Epoch 8, Loss = 2157.6500\n",
      "Epoch 9, Loss = 2135.8587\n",
      "Epoch 10, Loss = 2231.9533\n"
     ]
    }
   ],
   "source": [
    "device = \"cuda\" if torch.cuda.is_available() else \"cpu\"\n",
    "\n",
    "model = CNN().to(device)\n",
    "\n",
    "criterion = nn.CrossEntropyLoss()\n",
    "optimizer = optim.Adam(model.parameters(), lr=0.001)\n",
    "\n",
    "for epoch in range(10):\n",
    "    model.train()\n",
    "    total_loss = 0\n",
    "\n",
    "    for images, labels in train_loader:\n",
    "        images, labels = images.to(device), labels.to(device)\n",
    "        \n",
    "        optimizer.zero_grad()\n",
    "\n",
    "        # Forward pass\n",
    "        preds = model(images)\n",
    "        loss = criterion(preds, labels)\n",
    "\n",
    "        # Backward pass\n",
    "        loss.backward()\n",
    "\n",
    "        # Update the weights and biases\n",
    "        optimizer.step()\n",
    "\n",
    "        total_loss += loss.item()\n",
    "\n",
    "    print(f\"Epoch {epoch+1}, Loss = {total_loss:.4f}\")"
   ]
  },
  {
   "cell_type": "code",
   "execution_count": 29,
   "id": "f5697396",
   "metadata": {},
   "outputs": [
    {
     "data": {
      "image/png": "[encoded data removed]",
      "text/plain": [
       "<Figure size 1200x400 with 5 Axes>"
      ]
     },
     "metadata": {},
     "output_type": "display_data"
    }
   ],
   "source": [
    "test_data = datasets.MNIST(root=\"./data\", train=False, download=False, transform=transform)\n",
    "test_loader = torch.utils.data.DataLoader(test_data, batch_size=5, shuffle=False)\n",
    "\n",
    "\n",
    "model.eval()\n",
    "\n",
    "# Get the first 5 test images and labels\n",
    "images, labels = next(iter(test_loader))\n",
    "\n",
    "images = images.to(device)\n",
    "labels = labels.to(device)\n",
    "\n",
    "# Get predictions\n",
    "with torch.no_grad():\n",
    "    outputs = model(images)\n",
    "    _, preds = torch.max(outputs, 1)\n",
    "\n",
    "plt.figure(figsize=(12, 4))\n",
    "for i in range(5):\n",
    "    plt.subplot(1, 5, i + 1)\n",
    "    plt.imshow(images[i].cpu().squeeze(), cmap=\"gray\")\n",
    "    plt.title(f\"True: {labels[i].item()}\\nPred: {preds[i].item()}\")\n",
    "    plt.axis(\"off\")\n",
    "\n",
    "plt.show()"
   ]
  },
  {
   "cell_type": "code",
   "execution_count": null,
   "id": "dde06210",
   "metadata": {},
   "outputs": [],
   "source": []
  }
 ],
 "metadata": {
  "kernelspec": {
   "display_name": ".venv",
   "language": "python",
   "name": "python3"
  },
  "language_info": {
   "codemirror_mode": {
    "name": "ipython",
    "version": 3
   },
   "file_extension": ".py",
   "mimetype": "text/x-python",
   "name": "python",
   "nbconvert_exporter": "python",
   "pygments_lexer": "ipython3",
   "version": "3.10.11"
  }
 },
 "nbformat": 4,
 "nbformat_minor": 5
}
