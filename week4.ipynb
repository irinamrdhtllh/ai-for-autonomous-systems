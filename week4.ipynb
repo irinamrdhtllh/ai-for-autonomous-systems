{
 "cells": [
  {
   "cell_type": "code",
   "execution_count": 1,
   "id": "efd8e86e",
   "metadata": {},
   "outputs": [],
   "source": [
    "import numpy as np"
   ]
  },
  {
   "cell_type": "markdown",
   "id": "fc1313c3",
   "metadata": {},
   "source": [
    "## Fully-Connected Layer"
   ]
  },
  {
   "cell_type": "markdown",
   "id": "dca22f88",
   "metadata": {},
   "source": [
    "### Initialize weights and bias"
   ]
  },
  {
   "cell_type": "code",
   "execution_count": 2,
   "id": "c40e2bf7",
   "metadata": {},
   "outputs": [],
   "source": [
    "x = np.array([[1.0], [2.0]])\n",
    "y_true = np.array([[1.0]])\n",
    "\n",
    "W = np.array([[0.1, 0.2]])\n",
    "b = np.array([[0.5]])"
   ]
  },
  {
   "cell_type": "markdown",
   "id": "2dfbfa44",
   "metadata": {},
   "source": [
    "### Forward pass"
   ]
  },
  {
   "cell_type": "code",
   "execution_count": 3,
   "id": "ee61dc2b",
   "metadata": {},
   "outputs": [
    {
     "name": "stdout",
     "output_type": "stream",
     "text": [
      "Output (y):\n",
      " [[0.73105858]]\n"
     ]
    }
   ],
   "source": [
    "z = W @ x + b\n",
    "y_pred = 1 / (1 + np.exp(-z))\n",
    "\n",
    "print(\"Output (y):\\n\", y_pred)"
   ]
  },
  {
   "cell_type": "markdown",
   "id": "af565866",
   "metadata": {},
   "source": [
    "### Calculate loss"
   ]
  },
  {
   "cell_type": "code",
   "execution_count": 4,
   "id": "987366c3",
   "metadata": {},
   "outputs": [
    {
     "name": "stdout",
     "output_type": "stream",
     "text": [
      "Loss (L):\n",
      " 0.07232948812851325\n"
     ]
    }
   ],
   "source": [
    "# Mean squared error\n",
    "loss = np.mean((y_true - y_pred) ** 2)\n",
    "\n",
    "print(\"Loss (L):\\n\", loss)"
   ]
  },
  {
   "cell_type": "markdown",
   "id": "ff05c7d6",
   "metadata": {},
   "source": [
    "### Backward pass"
   ]
  },
  {
   "cell_type": "code",
   "execution_count": 5,
   "id": "2f512e94",
   "metadata": {},
   "outputs": [
    {
     "name": "stdout",
     "output_type": "stream",
     "text": [
      "Gradient wrt weights (dL/dW):\n",
      " [[-0.10575419 -0.21150837]]\n",
      "\n",
      "Gradient wrt bias (dL/db):\n",
      " [[-0.10575419]]\n",
      "\n",
      "Gradient wrt input (dL/dx):\n",
      " [[-0.01057542]\n",
      " [-0.02115084]]\n"
     ]
    }
   ],
   "source": [
    "dL_dy = - 2 * (y_true - y_pred)\n",
    "dy_dz = y_pred * (1 - y_pred)  # sigmoid derivative\n",
    "dL_dz = dL_dy * dy_dz\n",
    "dL_dW = dL_dz @ x.T\n",
    "dL_db = dL_dz\n",
    "dL_dx = W.T @ dL_dz\n",
    "\n",
    "print(\"Gradient wrt weights (dL/dW):\\n\", dL_dW)\n",
    "print(\"\\nGradient wrt bias (dL/db):\\n\", dL_db)\n",
    "print(\"\\nGradient wrt input (dL/dx):\\n\", dL_dx)"
   ]
  },
  {
   "cell_type": "markdown",
   "id": "060f6de1",
   "metadata": {},
   "source": [
    "### Update the weights and bias using the gradient"
   ]
  },
  {
   "cell_type": "code",
   "execution_count": 6,
   "id": "34fddfc7",
   "metadata": {},
   "outputs": [
    {
     "name": "stdout",
     "output_type": "stream",
     "text": [
      "Updated weights (W):\n",
      " [[0.10105754 0.20211508]]\n",
      "Updated bias (b):\n",
      " [[0.50105754]]\n"
     ]
    }
   ],
   "source": [
    "lr = 0.01\n",
    "W -= lr * dL_dW\n",
    "b -= lr * dL_db\n",
    "\n",
    "print(\"Updated weights (W):\\n\", W)\n",
    "print(\"Updated bias (b):\\n\", b)"
   ]
  },
  {
   "cell_type": "markdown",
   "id": "5c7bfce2",
   "metadata": {},
   "source": [
    "### Training loop"
   ]
  },
  {
   "cell_type": "code",
   "execution_count": 7,
   "id": "b4ed4135",
   "metadata": {},
   "outputs": [
    {
     "name": "stdout",
     "output_type": "stream",
     "text": [
      "Epoch 1, Loss = 0.1073\n",
      "Updated W: [[0.10456405 0.20384734]]  Updated b: [[0.50575205]]\n",
      "Epoch 2, Loss = 0.1056\n",
      "Updated W: [[0.10906857 0.20764446]]  Updated b: [[0.51143431]]\n",
      "Epoch 3, Loss = 0.1040\n",
      "Updated W: [[0.11351457 0.21139234]]  Updated b: [[0.51704801]]\n",
      "Epoch 4, Loss = 0.1023\n",
      "Updated W: [[0.11790308 0.21509192]]  Updated b: [[0.52259436]]\n",
      "Epoch 5, Loss = 0.1007\n",
      "Updated W: [[0.12223509 0.21874413]]  Updated b: [[0.52807453]]\n"
     ]
    }
   ],
   "source": [
    "x = np.array([[1.0], [2.0]])\n",
    "y_true = np.array([[1.0]])\n",
    "\n",
    "W = np.array([[0.1, 0.2]])\n",
    "b = np.array([[0.5]])\n",
    "\n",
    "lr = 0.01\n",
    "\n",
    "# Training loop\n",
    "for epoch in range(5):\n",
    "    # Forward pass\n",
    "    z = x @ W + b\n",
    "    y_pred = 1 / (1 + np.exp(-z))  # Sigmoid activation function\n",
    "    \n",
    "    # Loss (mean-squared error)\n",
    "    loss = np.mean((y_true - y_pred) ** 2)\n",
    "\n",
    "    # Backward pass\n",
    "    dL_dy = - 2 * (y_true - y_pred)  # Mean-squared error derivation\n",
    "    dy_dz = y_pred * (1 - y_pred)  # Sigmoid derivation\n",
    "    dL_dz = dL_dy * dy_dz\n",
    "\n",
    "    dL_dW = x.T @ dL_dz\n",
    "    dL_db = np.sum(dL_dz)\n",
    "\n",
    "    # Update step\n",
    "    W -= lr * dL_dW\n",
    "    b -= lr * dL_db\n",
    "    \n",
    "    print(f\"Epoch {epoch+1}, Loss = {loss:.4f}\")\n",
    "    print(\"Updated W:\", W, \" Updated b:\", b)"
   ]
  },
  {
   "cell_type": "markdown",
   "id": "494de63a",
   "metadata": {},
   "source": [
    "## Fully-Connected Network (FCN)"
   ]
  },
  {
   "cell_type": "markdown",
   "id": "89e04ba9",
   "metadata": {},
   "source": [
    "### Example: FCN for point classification"
   ]
  },
  {
   "cell_type": "code",
   "execution_count": 8,
   "id": "3f6c69ee",
   "metadata": {},
   "outputs": [],
   "source": [
    "# pip install nnfs\n",
    "import nnfs\n",
    "from nnfs.datasets import spiral_data\n",
    "\n",
    "# pip install matplotlib\n",
    "import matplotlib.pyplot as plt"
   ]
  },
  {
   "cell_type": "code",
   "execution_count": 9,
   "id": "bf938ae2",
   "metadata": {},
   "outputs": [
    {
     "data": {
      "image/png": "[encoded data removed]",
      "text/plain": [
       "<Figure size 500x500 with 1 Axes>"
      ]
     },
     "metadata": {},
     "output_type": "display_data"
    }
   ],
   "source": [
    "x_train, y_train = spiral_data(samples=1000, classes=3)\n",
    "\n",
    "plt.figure(figsize=(5, 5))\n",
    "plt.scatter(x_train[:, 0], x_train[:, 1], c=y_train, cmap=\"brg\", s=10)\n",
    "plt.title(\"Spiral Dataset\")\n",
    "plt.xlabel(\"x1\")\n",
    "plt.ylabel(\"x2\")\n",
    "plt.show()"
   ]
  },
  {
   "cell_type": "code",
   "execution_count": 10,
   "id": "92e2af0f",
   "metadata": {},
   "outputs": [],
   "source": [
    "# pip install torch\n",
    "import torch\n",
    "import torch.nn as nn\n",
    "import torch.optim as optim"
   ]
  },
  {
   "cell_type": "code",
   "execution_count": 11,
   "id": "255a0754",
   "metadata": {},
   "outputs": [],
   "source": [
    "# Convert data to tensors\n",
    "x_train = torch.tensor(x_train, dtype=torch.float32)\n",
    "y_train = torch.tensor(y_train, dtype=torch.long)"
   ]
  },
  {
   "cell_type": "code",
   "execution_count": 12,
   "id": "cc49d068",
   "metadata": {},
   "outputs": [
    {
     "name": "stdout",
     "output_type": "stream",
     "text": [
      "Epoch 1, Loss = 1.1101\n",
      "Epoch 2, Loss = 1.1023\n",
      "Epoch 3, Loss = 1.0755\n",
      "Epoch 4, Loss = 1.0859\n",
      "Epoch 5, Loss = 1.0726\n",
      "Epoch 6, Loss = 1.0670\n",
      "Epoch 7, Loss = 1.0662\n",
      "Epoch 8, Loss = 1.0642\n",
      "Epoch 9, Loss = 1.0583\n",
      "Epoch 10, Loss = 1.0522\n",
      "Epoch 11, Loss = 1.0470\n",
      "Epoch 12, Loss = 1.0433\n",
      "Epoch 13, Loss = 1.0390\n",
      "Epoch 14, Loss = 1.0327\n",
      "Epoch 15, Loss = 1.0264\n",
      "Epoch 16, Loss = 1.0201\n",
      "Epoch 17, Loss = 1.0136\n",
      "Epoch 18, Loss = 1.0061\n",
      "Epoch 19, Loss = 0.9978\n",
      "Epoch 20, Loss = 0.9900\n",
      "Epoch 21, Loss = 0.9826\n",
      "Epoch 22, Loss = 0.9748\n",
      "Epoch 23, Loss = 0.9671\n",
      "Epoch 24, Loss = 0.9592\n",
      "Epoch 25, Loss = 0.9510\n",
      "Epoch 26, Loss = 0.9432\n",
      "Epoch 27, Loss = 0.9363\n",
      "Epoch 28, Loss = 0.9302\n",
      "Epoch 29, Loss = 0.9214\n",
      "Epoch 30, Loss = 0.9097\n",
      "Epoch 31, Loss = 0.9015\n",
      "Epoch 32, Loss = 0.8950\n",
      "Epoch 33, Loss = 0.8848\n",
      "Epoch 34, Loss = 0.8716\n",
      "Epoch 35, Loss = 0.8619\n",
      "Epoch 36, Loss = 0.8545\n",
      "Epoch 37, Loss = 0.8439\n",
      "Epoch 38, Loss = 0.8304\n",
      "Epoch 39, Loss = 0.8169\n",
      "Epoch 40, Loss = 0.8062\n",
      "Epoch 41, Loss = 0.7981\n",
      "Epoch 42, Loss = 0.7898\n",
      "Epoch 43, Loss = 0.7787\n",
      "Epoch 44, Loss = 0.7595\n",
      "Epoch 45, Loss = 0.7461\n",
      "Epoch 46, Loss = 0.7398\n",
      "Epoch 47, Loss = 0.7302\n",
      "Epoch 48, Loss = 0.7139\n",
      "Epoch 49, Loss = 0.6970\n",
      "Epoch 50, Loss = 0.6885\n",
      "Epoch 51, Loss = 0.6825\n",
      "Epoch 52, Loss = 0.6693\n",
      "Epoch 53, Loss = 0.6520\n",
      "Epoch 54, Loss = 0.6400\n",
      "Epoch 55, Loss = 0.6336\n",
      "Epoch 56, Loss = 0.6272\n",
      "Epoch 57, Loss = 0.6132\n",
      "Epoch 58, Loss = 0.5983\n",
      "Epoch 59, Loss = 0.5901\n",
      "Epoch 60, Loss = 0.5848\n",
      "Epoch 61, Loss = 0.5772\n",
      "Epoch 62, Loss = 0.5646\n",
      "Epoch 63, Loss = 0.5554\n",
      "Epoch 64, Loss = 0.5511\n",
      "Epoch 65, Loss = 0.5447\n",
      "Epoch 66, Loss = 0.5341\n",
      "Epoch 67, Loss = 0.5256\n",
      "Epoch 68, Loss = 0.5235\n",
      "Epoch 69, Loss = 0.5180\n",
      "Epoch 70, Loss = 0.5067\n",
      "Epoch 71, Loss = 0.5007\n",
      "Epoch 72, Loss = 0.4984\n",
      "Epoch 73, Loss = 0.4900\n",
      "Epoch 74, Loss = 0.4819\n",
      "Epoch 75, Loss = 0.4793\n",
      "Epoch 76, Loss = 0.4736\n",
      "Epoch 77, Loss = 0.4656\n",
      "Epoch 78, Loss = 0.4611\n",
      "Epoch 79, Loss = 0.4579\n",
      "Epoch 80, Loss = 0.4522\n",
      "Epoch 81, Loss = 0.4508\n",
      "Epoch 82, Loss = 0.4745\n",
      "Epoch 83, Loss = 0.5358\n",
      "Epoch 84, Loss = 0.4880\n",
      "Epoch 85, Loss = 0.4410\n",
      "Epoch 86, Loss = 0.4776\n",
      "Epoch 87, Loss = 0.4432\n",
      "Epoch 88, Loss = 0.4448\n",
      "Epoch 89, Loss = 0.4513\n",
      "Epoch 90, Loss = 0.4221\n",
      "Epoch 91, Loss = 0.4474\n",
      "Epoch 92, Loss = 0.4116\n",
      "Epoch 93, Loss = 0.4355\n",
      "Epoch 94, Loss = 0.4072\n",
      "Epoch 95, Loss = 0.4237\n",
      "Epoch 96, Loss = 0.4063\n",
      "Epoch 97, Loss = 0.4118\n",
      "Epoch 98, Loss = 0.4029\n",
      "Epoch 99, Loss = 0.4029\n",
      "Epoch 100, Loss = 0.3979\n"
     ]
    }
   ],
   "source": [
    "# FCN model (3 hidden layers)\n",
    "model = nn.Sequential(\n",
    "    nn.Linear(in_features=2, out_features=128),\n",
    "    nn.ReLU(),\n",
    "    nn.Linear(in_features=128, out_features=128),\n",
    "    nn.ReLU(),\n",
    "    nn.Linear(in_features=128, out_features=3),\n",
    ")\n",
    "\n",
    "criterion = nn.CrossEntropyLoss()\n",
    "optimizer = optim.Adam(model.parameters(), lr=0.01)\n",
    "\n",
    "for epoch in range(100):\n",
    "    optimizer.zero_grad()\n",
    "\n",
    "    # Forward pass\n",
    "    y_pred = model(x_train)\n",
    "    loss = criterion(y_pred, y_train)\n",
    "\n",
    "    # Backward pass\n",
    "    loss.backward()\n",
    "\n",
    "    # Update the weights and biases\n",
    "    optimizer.step()\n",
    "\n",
    "    print(f\"Epoch {epoch+1}, Loss = {loss:.4f}\")"
   ]
  },
  {
   "cell_type": "markdown",
   "id": "39f4a5c3",
   "metadata": {},
   "source": [
    "### Test the model"
   ]
  },
  {
   "cell_type": "code",
   "execution_count": 13,
   "id": "bc4d8578",
   "metadata": {},
   "outputs": [
    {
     "data": {
      "image/png": "[encoded data removed]",
      "text/plain": [
       "<Figure size 500x500 with 1 Axes>"
      ]
     },
     "metadata": {},
     "output_type": "display_data"
    }
   ],
   "source": [
    "x_test, y_test = spiral_data(samples=100, classes=3)\n",
    "\n",
    "plt.figure(figsize=(5, 5))\n",
    "plt.scatter(x_test[:, 0], x_test[:, 1], c=y_test, cmap=\"brg\", s=10)\n",
    "plt.title(\"Spiral Dataset\")\n",
    "plt.xlabel(\"x1\")\n",
    "plt.ylabel(\"x2\")\n",
    "plt.show()"
   ]
  },
  {
   "cell_type": "code",
   "execution_count": 14,
   "id": "e69e8d17",
   "metadata": {},
   "outputs": [
    {
     "name": "stdout",
     "output_type": "stream",
     "text": [
      "\n",
      "Final Test Accuracy: 0.843\n"
     ]
    }
   ],
   "source": [
    "# Convert data to tensors\n",
    "x_test = torch.tensor(x_test, dtype=torch.float32)\n",
    "y_test = torch.tensor(y_test, dtype=torch.long)\n",
    "\n",
    "with torch.no_grad():\n",
    "    y_pred = model(x_test)\n",
    "    pred_test = torch.argmax(y_pred, axis=1)\n",
    "    test_acc = (pred_test == y_test).float().mean()\n",
    "\n",
    "print(f\"\\nFinal Test Accuracy: {test_acc:.3f}\")"
   ]
  },
  {
   "cell_type": "markdown",
   "id": "869d32fe",
   "metadata": {},
   "source": [
    "### Example: FCN for image classification"
   ]
  },
  {
   "cell_type": "code",
   "execution_count": 15,
   "id": "9240db31",
   "metadata": {},
   "outputs": [],
   "source": [
    "from torchvision import datasets, transforms"
   ]
  },
  {
   "cell_type": "code",
   "execution_count": 16,
   "id": "a1e15982",
   "metadata": {},
   "outputs": [],
   "source": [
    "transform = transforms.ToTensor()\n",
    "\n",
    "train_data = datasets.MNIST(root=\"./data\", train=True, download=True, transform=transform)\n",
    "train_loader = torch.utils.data.DataLoader(train_data, batch_size=1, shuffle=True)"
   ]
  },
  {
   "cell_type": "code",
   "execution_count": 17,
   "id": "58157cf5",
   "metadata": {},
   "outputs": [
    {
     "name": "stdout",
     "output_type": "stream",
     "text": [
      "Image shape: torch.Size([1, 28, 28])\n",
      "Label: 5\n"
     ]
    }
   ],
   "source": [
    "image, label = train_data[0]\n",
    "\n",
    "print(\"Image shape:\", image.shape)\n",
    "print(\"Label:\", label)\n"
   ]
  },
  {
   "cell_type": "code",
   "execution_count": 18,
   "id": "a7e3db15",
   "metadata": {},
   "outputs": [
    {
     "data": {
      "image/png": "[encoded data removed]",
      "text/plain": [
       "<Figure size 640x480 with 1 Axes>"
      ]
     },
     "metadata": {},
     "output_type": "display_data"
    }
   ],
   "source": [
    "plt.imshow(image.squeeze(), cmap=\"gray\")\n",
    "plt.title(f\"Label: {label}\")\n",
    "plt.axis(\"off\")\n",
    "plt.show()"
   ]
  },
  {
   "cell_type": "code",
   "execution_count": 20,
   "id": "f57636c2",
   "metadata": {},
   "outputs": [
    {
     "name": "stdout",
     "output_type": "stream",
     "text": [
      "Epoch 1, Loss = 16393.0596\n",
      "Epoch 2, Loss = 10884.7761\n",
      "Epoch 3, Loss = 9834.1604\n",
      "Epoch 4, Loss = 9196.0441\n",
      "Epoch 5, Loss = 8858.1126\n",
      "Epoch 6, Loss = 8267.2513\n",
      "Epoch 7, Loss = 7916.9781\n",
      "Epoch 8, Loss = 7938.9500\n",
      "Epoch 9, Loss = 8071.4328\n",
      "Epoch 10, Loss = 6905.6258\n"
     ]
    }
   ],
   "source": [
    "device = \"cuda\" if torch.cuda.is_available() else \"cpu\"\n",
    "\n",
    "model = nn.Sequential(\n",
    "    nn.Linear(28*28, 512),\n",
    "    nn.ReLU(),\n",
    "    nn.Linear(512, 512),\n",
    "    nn.ReLU(),\n",
    "    nn.Linear(512, 10)\n",
    ")\n",
    "model = model.to(device)\n",
    "\n",
    "criterion = nn.CrossEntropyLoss()\n",
    "optimizer = optim.Adam(model.parameters(), lr=0.001)\n",
    "\n",
    "for epoch in range(10):\n",
    "    total_loss = 0\n",
    "\n",
    "    for images, labels in train_loader:\n",
    "        images, labels = images.to(device), labels.to(device)\n",
    "        images = images.view(images.size(0), -1)\n",
    "\n",
    "        optimizer.zero_grad()\n",
    "\n",
    "        # Forward pass\n",
    "        preds = model(images)\n",
    "        loss = criterion(preds, labels)\n",
    "\n",
    "        # Backward pass\n",
    "        loss.backward()\n",
    "\n",
    "        # Update the weights and biases\n",
    "        optimizer.step()\n",
    "\n",
    "        total_loss += loss.item()\n",
    "\n",
    "    print(f\"Epoch {epoch+1}, Loss = {total_loss:.4f}\")"
   ]
  },
  {
   "cell_type": "markdown",
   "id": "38500367",
   "metadata": {},
   "source": [
    "## Convolutional Layer"
   ]
  },
  {
   "cell_type": "markdown",
   "id": "5633dbc5",
   "metadata": {},
   "source": [
    "### Initialize input, weights and bias"
   ]
  },
  {
   "cell_type": "code",
   "execution_count": 21,
   "id": "520d77da",
   "metadata": {},
   "outputs": [],
   "source": [
    "X = np.random.randint(0, 255, (28, 28))\n",
    "\n",
    "W = np.array([\n",
    "    [0.2, -0.5],\n",
    "    [0.3, 0.1]\n",
    "])\n",
    "b = 0.0"
   ]
  },
  {
   "cell_type": "markdown",
   "id": "0a2ebbaf",
   "metadata": {},
   "source": [
    "### Forward pass"
   ]
  },
  {
   "cell_type": "code",
   "execution_count": 22,
   "id": "a0479cf8",
   "metadata": {},
   "outputs": [
    {
     "name": "stdout",
     "output_type": "stream",
     "text": [
      "Output (Z):\n",
      " [[ 5.5500000e+01  3.5900000e+01  1.7600000e+01 -3.2600000e+01\n",
      "   6.0600000e+01 -1.5400000e+01  3.4000000e+01 -2.8300000e+01\n",
      "   5.0100000e+01 -1.2000000e+00  8.1000000e+00 -2.4100000e+01\n",
      "  -9.0000000e-01  5.6600000e+01 -4.2500000e+01  7.6600000e+01\n",
      "  -1.8800000e+01  5.9000000e+01 -3.0000000e+00  6.3000000e+00\n",
      "   5.7400000e+01  2.5700000e+01 -2.0900000e+01 -5.1700000e+01\n",
      "   3.8300000e+01  1.8800000e+01  2.7500000e+01]\n",
      " [ 5.5000000e+01 -7.5000000e+01  4.2900000e+01 -2.5600000e+01\n",
      "   4.3700000e+01  7.0400000e+01 -4.9000000e+01  1.9700000e+01\n",
      "   8.7300000e+01 -4.5600000e+01 -5.3900000e+01  1.6700000e+01\n",
      "  -2.2600000e+01  3.3000000e+01 -9.3000000e+00 -8.1000000e+01\n",
      "  -2.0000000e+01  1.7200000e+01  1.7300000e+01 -2.2900000e+01\n",
      "   2.9700000e+01 -3.3800000e+01  5.7900000e+01 -6.1800000e+01\n",
      "   9.5800000e+01  5.3100000e+01  6.0000000e-01]\n",
      " [ 3.2500000e+01  3.4900000e+01  7.7800000e+01  3.7100000e+01\n",
      "  -4.4300000e+01 -2.7600000e+01  5.9200000e+01 -6.3100000e+01\n",
      "   7.3800000e+01  1.0110000e+02  7.2900000e+01 -4.4200000e+01\n",
      "   3.3100000e+01 -1.6000000e+00  9.9500000e+01  3.4800000e+01\n",
      "  -1.4700000e+01  9.8900000e+01  2.5000000e+00  8.4500000e+01\n",
      "   5.6200000e+01 -4.5500000e+01  3.5100000e+01 -5.5800000e+01\n",
      "   6.2800000e+01  1.3200000e+01  9.3600000e+01]\n",
      " [ 3.9300000e+01 -8.8600000e+01  7.2600000e+01  2.9200000e+01\n",
      "   7.9600000e+01  6.5800000e+01  2.7500000e+01 -6.2400000e+01\n",
      "  -2.3200000e+01 -2.8500000e+01 -2.5100000e+01  5.0000000e+01\n",
      "   1.2800000e+01 -7.1700000e+01  2.3600000e+01 -4.3000000e+00\n",
      "   1.3700000e+01 -6.8800000e+01  2.2000000e+00 -1.2900000e+01\n",
      "  -4.0700000e+01  3.1100000e+01  1.9900000e+01 -5.5300000e+01\n",
      "   3.4200000e+01 -5.3100000e+01 -4.3700000e+01]\n",
      " [ 6.9800000e+01 -2.4300000e+01  4.0800000e+01 -4.0700000e+01\n",
      "  -2.7000000e+00  1.1600000e+01  6.7700000e+01 -6.7500000e+01\n",
      "  -3.3000000e+00  3.2600000e+01  2.7500000e+01  1.8400000e+01\n",
      "   3.0000000e-01 -2.7600000e+01  1.1400000e+01 -2.9400000e+01\n",
      "   1.7500000e+01 -1.5200000e+01  5.6100000e+01  3.7000000e+01\n",
      "  -2.6200000e+01  3.3400000e+01 -1.4600000e+01  6.5800000e+01\n",
      "  -1.5200000e+01  8.7700000e+01 -2.0000000e-01]\n",
      " [-8.9600000e+01 -1.0900000e+01 -3.5000000e+00  8.0000000e+01\n",
      "  -1.3300000e+01  4.9800000e+01  5.2900000e+01  4.4400000e+01\n",
      "  -2.2800000e+01 -2.7900000e+01  4.6800000e+01  4.0600000e+01\n",
      "   2.9200000e+01  4.0500000e+01  3.1100000e+01  4.2700000e+01\n",
      "   5.4600000e+01 -4.6000000e+00  7.3600000e+01  4.5900000e+01\n",
      "   2.8700000e+01  4.6300000e+01  1.4300000e+01  1.4800000e+01\n",
      "   2.9000000e+00 -1.8000000e+01  9.7000000e+00]\n",
      " [-3.5100000e+01  8.7200000e+01  3.7800000e+01 -4.8600000e+01\n",
      "   1.0700000e+01  1.5100000e+01 -2.4100000e+01  5.0200000e+01\n",
      "   1.4300000e+01 -5.2100000e+01  3.0900000e+01 -9.1000000e+00\n",
      "   1.6200000e+01  1.9400000e+01 -2.2600000e+01  4.2400000e+01\n",
      "  -5.1200000e+01  3.0000000e+00 -4.8100000e+01  5.2400000e+01\n",
      "  -6.8000000e+00  1.1900000e+01  1.0450000e+02  1.1000000e+01\n",
      "  -5.0700000e+01  5.1500000e+01 -5.0000000e-01]\n",
      " [-5.2700000e+01 -2.3000000e+00  1.6600000e+01 -1.9200000e+01\n",
      "   2.9200000e+01  6.1500000e+01  2.8300000e+01 -7.3000000e+00\n",
      "   4.8600000e+01  3.4200000e+01 -2.2500000e+01  2.5000000e+01\n",
      "  -4.3600000e+01  3.9500000e+01 -1.7000000e+01  1.3940000e+02\n",
      "  -3.7100000e+01  5.8200000e+01 -2.4000000e+00 -2.6100000e+01\n",
      "   1.0000000e+01 -6.0000000e-01 -9.3000000e+00  6.3400000e+01\n",
      "   6.7000000e+00 -6.0000000e+00  4.3800000e+01]\n",
      " [-9.6900000e+01  5.1000000e+01  1.6300000e+01  2.4700000e+01\n",
      "  -7.6100000e+01  6.0000000e+01 -3.1100000e+01  5.4200000e+01\n",
      "  -3.5000000e+01  7.2600000e+01 -5.9300000e+01  7.1600000e+01\n",
      "   2.8800000e+01 -4.5200000e+01 -7.0500000e+01 -4.2000000e+01\n",
      "   2.6600000e+01 -2.4000000e+01  1.4600000e+01 -3.3600000e+01\n",
      "  -4.9000000e+00  6.1300000e+01 -8.8800000e+01  4.5600000e+01\n",
      "   1.9900000e+01 -1.7000000e+01 -7.2500000e+01]\n",
      " [ 6.9200000e+01  1.6600000e+01  9.3600000e+01  9.1000000e+00\n",
      "  -1.6800000e+01  2.6700000e+01  4.3700000e+01  4.6300000e+01\n",
      "  -6.0000000e+00  6.2000000e+00 -1.0500000e+01  2.1000000e+00\n",
      "  -5.6900000e+01  3.1900000e+01  6.7000000e+00  9.1700000e+01\n",
      "   2.4300000e+01  7.0700000e+01 -4.2600000e+01  5.8000000e+00\n",
      "   1.3000000e+01  4.0200000e+01  8.6200000e+01  1.0300000e+01\n",
      "   2.9800000e+01  2.9000000e+01  3.8200000e+01]\n",
      " [-1.8900000e+01 -2.5800000e+01  1.2010000e+02 -1.2700000e+01\n",
      "   9.7800000e+01 -9.0000000e-01  3.0000000e-01 -7.1400000e+01\n",
      "   1.0890000e+02  1.5600000e+01  7.0600000e+01  1.5700000e+01\n",
      "   3.6700000e+01  9.9000000e+00 -4.8000000e+01  2.9200000e+01\n",
      "  -4.6200000e+01  1.5200000e+01 -3.2600000e+01  3.3500000e+01\n",
      "   2.0900000e+01 -7.5100000e+01  7.1000000e+01 -6.3800000e+01\n",
      "   2.4700000e+01  8.4400000e+01 -6.1800000e+01]\n",
      " [ 1.0540000e+02 -6.7000000e+01  8.2000000e+00  3.1000000e+01\n",
      "  -9.4000000e+00  3.9500000e+01  1.2190000e+02 -3.5700000e+01\n",
      "   3.9400000e+01 -8.5900000e+01  9.2900000e+01 -2.3300000e+01\n",
      "   5.5400000e+01  3.0600000e+01 -1.2100000e+01  3.9100000e+01\n",
      "   6.8000000e+01  4.8800000e+01 -4.0000000e+00 -5.2900000e+01\n",
      "   1.0530000e+02  1.8200000e+01 -1.4000000e+01  4.6000000e+00\n",
      "   5.1000000e+00  4.7500000e+01  1.8700000e+01]\n",
      " [ 8.5900000e+01 -1.5200000e+01 -4.6000000e+01  2.4700000e+01\n",
      "  -2.8600000e+01 -6.1100000e+01 -9.4000000e+00  7.6900000e+01\n",
      "   6.3100000e+01 -2.5200000e+01 -1.4800000e+01  3.1900000e+01\n",
      "   2.2500000e+01 -3.5900000e+01  4.8000000e+01  5.3100000e+01\n",
      "  -3.4500000e+01  5.3100000e+01 -4.3900000e+01 -3.9700000e+01\n",
      "   3.6400000e+01  2.4000000e+00  3.0000000e+01 -1.0080000e+02\n",
      "   6.5900000e+01 -3.5300000e+01 -6.7000000e+00]\n",
      " [ 8.0000000e+00  1.9700000e+01  5.7800000e+01  3.3700000e+01\n",
      "   3.4100000e+01  6.7200000e+01 -4.4800000e+01  2.0400000e+01\n",
      "  -1.2900000e+01  7.5000000e+01 -6.1100000e+01 -4.3000000e+00\n",
      "   8.4900000e+01 -2.4900000e+01 -2.9300000e+01  2.3400000e+01\n",
      "   4.8000000e+01  7.8300000e+01  1.0200000e+01  3.3900000e+01\n",
      "   2.8000000e+00  8.2400000e+01  4.0300000e+01 -2.2000000e+01\n",
      "   3.3000000e+00  8.3700000e+01  3.3400000e+01]\n",
      " [ 6.7400000e+01 -8.6000000e+00  6.9900000e+01  3.8100000e+01\n",
      "   3.0000000e+00 -3.9000000e+00  5.6500000e+01 -4.7000000e+00\n",
      "  -1.6600000e+01  6.4300000e+01 -4.2000000e+00 -1.8700000e+01\n",
      "   7.5200000e+01 -5.3800000e+01 -4.1800000e+01  6.0300000e+01\n",
      "  -6.0200000e+01 -1.6500000e+01  4.5000000e+00 -3.9500000e+01\n",
      "   4.3500000e+01 -2.6900000e+01  4.7000000e+00  2.7600000e+01\n",
      "   3.9000000e+00  1.0400000e+01 -1.3800000e+01]\n",
      " [-5.5100000e+01 -3.6800000e+01 -3.4600000e+01  2.4600000e+01\n",
      "   1.0270000e+02  7.0000000e+00  8.3200000e+01  6.4000000e+01\n",
      "  -5.4200000e+01  5.8200000e+01  3.2300000e+01 -4.2800000e+01\n",
      "   7.1900000e+01  4.0000000e+01  4.7500000e+01  5.0700000e+01\n",
      "   3.4300000e+01  6.2600000e+01  1.5600000e+01 -6.1000000e+00\n",
      "   1.3040000e+02  6.6600000e+01 -6.0800000e+01  3.3100000e+01\n",
      "   2.8100000e+01 -9.2600000e+01  1.2920000e+02]\n",
      " [ 7.5000000e+00  1.2600000e+01 -3.2000000e+01 -4.2300000e+01\n",
      "  -5.0000000e-01 -2.9100000e+01 -1.3100000e+01  1.9800000e+01\n",
      "   3.7400000e+01 -1.3200000e+01  6.6200000e+01  2.1400000e+01\n",
      "  -9.6400000e+01 -3.6000000e+00  8.0000000e-01  2.6200000e+01\n",
      "   1.9800000e+01  2.8500000e+01 -8.8817842e-15 -4.7300000e+01\n",
      "  -7.7000000e+00 -9.4000000e+00 -7.9400000e+01  1.1450000e+02\n",
      "   6.6700000e+01 -5.1700000e+01  1.1100000e+01]\n",
      " [ 8.0500000e+01 -9.3100000e+01  1.8700000e+01  3.6500000e+01\n",
      "  -3.4900000e+01 -5.0000000e-01  5.5100000e+01  2.7500000e+01\n",
      "  -2.2500000e+01 -1.7000000e+00  7.7700000e+01  7.2200000e+01\n",
      "   4.4800000e+01 -3.2000000e+01 -9.2000000e+00  4.6200000e+01\n",
      "   9.8000000e+00 -5.9100000e+01  2.1100000e+01  2.6400000e+01\n",
      "   2.7000000e+00  3.5300000e+01 -2.9700000e+01 -3.8800000e+01\n",
      "  -2.1700000e+01  3.9500000e+01 -1.6400000e+01]\n",
      " [ 8.1300000e+01  5.9700000e+01 -3.2900000e+01  1.0930000e+02\n",
      "   1.7200000e+01 -1.3400000e+01 -5.2500000e+01  2.0000000e+01\n",
      "   2.9600000e+01 -2.2800000e+01  4.4300000e+01 -4.8000000e+00\n",
      "   5.0100000e+01  1.7000000e+00  2.4600000e+01 -6.1600000e+01\n",
      "   4.7700000e+01  6.6200000e+01 -3.0200000e+01  1.2020000e+02\n",
      "   6.9900000e+01 -3.0600000e+01  8.9700000e+01  5.4900000e+01\n",
      "  -2.7600000e+01  1.0800000e+01  1.1000000e+01]\n",
      " [ 7.5100000e+01  9.1100000e+01 -8.3100000e+01 -4.7600000e+01\n",
      "   1.0630000e+02  2.5800000e+01 -6.8200000e+01 -2.9100000e+01\n",
      "   4.1600000e+01 -1.7500000e+01 -1.6000000e+01  1.3000000e+00\n",
      "  -5.2000000e+00 -3.9100000e+01  1.1300000e+02  5.6800000e+01\n",
      "  -3.1800000e+01  6.8200000e+01 -2.3700000e+01 -4.2200000e+01\n",
      "   4.6700000e+01 -5.2600000e+01 -2.8700000e+01  5.5400000e+01\n",
      "  -2.9200000e+01 -2.8600000e+01  6.2100000e+01]\n",
      " [-4.2500000e+01  6.1000000e+00  8.6700000e+01 -4.3900000e+01\n",
      "   8.7900000e+01  5.0100000e+01 -1.9500000e+01  3.8500000e+01\n",
      "  -5.0700000e+01  1.7700000e+01  5.6500000e+01 -3.4100000e+01\n",
      "   4.9000000e+00 -9.5000000e+00  4.2900000e+01  2.1700000e+01\n",
      "  -3.4400000e+01 -1.4300000e+01  9.3400000e+01  3.1800000e+01\n",
      "   3.4400000e+01  4.5600000e+01  6.0200000e+01  1.3700000e+01\n",
      "  -4.1900000e+01 -8.2000000e+00  5.0100000e+01]\n",
      " [ 6.4000000e+01 -2.2400000e+01  1.9700000e+01 -1.8000000e+00\n",
      "   5.3400000e+01  6.0700000e+01  1.3400000e+01 -3.7900000e+01\n",
      "   5.5300000e+01  4.0000000e+01  1.2000000e+00  1.0220000e+02\n",
      "   2.0500000e+01  2.2600000e+01 -6.6000000e+00  4.9200000e+01\n",
      "  -4.0800000e+01 -2.5500000e+01 -4.8900000e+01  4.6100000e+01\n",
      "  -2.1800000e+01 -4.9700000e+01  6.4900000e+01  6.7600000e+01\n",
      "  -3.8800000e+01  5.5600000e+01  2.2800000e+01]\n",
      " [ 9.0000000e+00  2.2400000e+01  2.1200000e+01 -2.5000000e+01\n",
      "   4.1700000e+01  7.4300000e+01 -5.9000000e+01  1.1800000e+02\n",
      "  -2.4900000e+01  2.9000000e+01 -1.9800000e+01  1.7800000e+01\n",
      "  -2.1700000e+01 -4.7200000e+01  4.9800000e+01  1.7700000e+01\n",
      "   5.2000000e+00  4.2300000e+01 -5.5000000e+00  1.8100000e+01\n",
      "   5.7400000e+01 -7.8700000e+01 -3.1000000e+01  5.6600000e+01\n",
      "   2.7400000e+01 -6.1300000e+01  4.8200000e+01]\n",
      " [-5.7600000e+01 -2.7100000e+01  2.2700000e+01 -2.8300000e+01\n",
      "   6.2900000e+01  5.4900000e+01 -7.7000000e+01  5.4000000e+00\n",
      "   5.4000000e+01  4.0100000e+01 -3.9200000e+01  5.5200000e+01\n",
      "   1.7300000e+01  9.2100000e+01  2.3600000e+01 -1.5500000e+01\n",
      "   3.1200000e+01  2.4900000e+01 -3.5700000e+01  1.2800000e+01\n",
      "   2.2500000e+01 -2.1000000e+01  1.5900000e+01 -2.7200000e+01\n",
      "   2.8100000e+01  2.6100000e+01  9.3100000e+01]\n",
      " [ 9.9100000e+01  1.2100000e+01 -4.4200000e+01 -6.1200000e+01\n",
      "   2.7900000e+01  6.5400000e+01 -8.7000000e+01 -4.0100000e+01\n",
      "  -2.6000000e+01  3.4100000e+01 -4.7500000e+01  2.3400000e+01\n",
      "  -1.0100000e+01 -1.2400000e+01 -6.7000000e+00  5.1400000e+01\n",
      "  -4.2100000e+01  2.6000000e+01  1.2600000e+01  3.0000000e+00\n",
      "  -8.2000000e+00  8.7000000e+00 -9.2300000e+01  1.0210000e+02\n",
      "   7.2400000e+01 -2.9100000e+01 -1.8400000e+01]\n",
      " [ 1.9000000e+00  1.1530000e+02  1.6900000e+01 -4.0100000e+01\n",
      "   4.5800000e+01  2.6000000e+01  8.7700000e+01  3.2000000e+00\n",
      "   1.2800000e+01  2.2200000e+01  2.9300000e+01 -2.6100000e+01\n",
      "   1.8800000e+01  5.0000000e+00  7.5000000e+00  6.5600000e+01\n",
      "  -1.2400000e+01  6.9500000e+01  8.8300000e+01  5.7000000e+01\n",
      "   6.8000000e+01  3.9200000e+01 -5.9000000e+01 -3.3300000e+01\n",
      "  -4.1200000e+01  6.7600000e+01  2.2600000e+01]\n",
      " [ 2.4000000e+00  1.1180000e+02  6.4000000e+01 -8.4800000e+01\n",
      "   7.7200000e+01 -8.0100000e+01  3.1200000e+01  9.8700000e+01\n",
      "   7.8700000e+01 -4.6000000e+00  3.9500000e+01  7.7000000e+00\n",
      "   5.4800000e+01 -4.4000000e+00  2.2600000e+01 -9.3000000e+00\n",
      "  -1.4200000e+01  1.0200000e+01  4.4900000e+01  7.5000000e+00\n",
      "   6.7300000e+01  2.3100000e+01  1.3100000e+01  4.6400000e+01\n",
      "  -4.5900000e+01  3.7200000e+01 -2.6200000e+01]]\n",
      "\n",
      "Shape after convolutional layer: (27, 27)\n"
     ]
    }
   ],
   "source": [
    "# Convolutional layer\n",
    "kernel_size = 2\n",
    "padding = 0\n",
    "stride = 1\n",
    "\n",
    "# Calculate the output size\n",
    "H_out = (X.shape[0] + 2 * padding - kernel_size) // stride + 1\n",
    "W_out = (X.shape[1] + 2 * padding - kernel_size) // stride + 1\n",
    "\n",
    "# Do the convolution operation\n",
    "Z = np.zeros((H_out, W_out))\n",
    "for i in range(0, H_out, stride):\n",
    "    for j in range(0, W_out, stride):\n",
    "        conv_region = X[i:i+kernel_size, j:j+kernel_size]\n",
    "        Z[i, j] = np.sum(W * conv_region) + b\n",
    "\n",
    "print(\"Output (Z):\\n\", Z)\n",
    "print(\"\\nShape after convolutional layer:\", Z.shape)"
   ]
  },
  {
   "cell_type": "code",
   "execution_count": 23,
   "id": "07a32342",
   "metadata": {},
   "outputs": [
    {
     "name": "stdout",
     "output_type": "stream",
     "text": [
      "Output after ReLU (Z):\n",
      " [[ 55.5  35.9  17.6   0.   60.6   0.   34.    0.   50.1   0.    8.1   0.\n",
      "    0.   56.6   0.   76.6   0.   59.    0.    6.3  57.4  25.7   0.    0.\n",
      "   38.3  18.8  27.5]\n",
      " [ 55.    0.   42.9   0.   43.7  70.4   0.   19.7  87.3   0.    0.   16.7\n",
      "    0.   33.    0.    0.    0.   17.2  17.3   0.   29.7   0.   57.9   0.\n",
      "   95.8  53.1   0.6]\n",
      " [ 32.5  34.9  77.8  37.1   0.    0.   59.2   0.   73.8 101.1  72.9   0.\n",
      "   33.1   0.   99.5  34.8   0.   98.9   2.5  84.5  56.2   0.   35.1   0.\n",
      "   62.8  13.2  93.6]\n",
      " [ 39.3   0.   72.6  29.2  79.6  65.8  27.5   0.    0.    0.    0.   50.\n",
      "   12.8   0.   23.6   0.   13.7   0.    2.2   0.    0.   31.1  19.9   0.\n",
      "   34.2   0.    0. ]\n",
      " [ 69.8   0.   40.8   0.    0.   11.6  67.7   0.    0.   32.6  27.5  18.4\n",
      "    0.3   0.   11.4   0.   17.5   0.   56.1  37.    0.   33.4   0.   65.8\n",
      "    0.   87.7   0. ]\n",
      " [  0.    0.    0.   80.    0.   49.8  52.9  44.4   0.    0.   46.8  40.6\n",
      "   29.2  40.5  31.1  42.7  54.6   0.   73.6  45.9  28.7  46.3  14.3  14.8\n",
      "    2.9   0.    9.7]\n",
      " [  0.   87.2  37.8   0.   10.7  15.1   0.   50.2  14.3   0.   30.9   0.\n",
      "   16.2  19.4   0.   42.4   0.    3.    0.   52.4   0.   11.9 104.5  11.\n",
      "    0.   51.5   0. ]\n",
      " [  0.    0.   16.6   0.   29.2  61.5  28.3   0.   48.6  34.2   0.   25.\n",
      "    0.   39.5   0.  139.4   0.   58.2   0.    0.   10.    0.    0.   63.4\n",
      "    6.7   0.   43.8]\n",
      " [  0.   51.   16.3  24.7   0.   60.    0.   54.2   0.   72.6   0.   71.6\n",
      "   28.8   0.    0.    0.   26.6   0.   14.6   0.    0.   61.3   0.   45.6\n",
      "   19.9   0.    0. ]\n",
      " [ 69.2  16.6  93.6   9.1   0.   26.7  43.7  46.3   0.    6.2   0.    2.1\n",
      "    0.   31.9   6.7  91.7  24.3  70.7   0.    5.8  13.   40.2  86.2  10.3\n",
      "   29.8  29.   38.2]\n",
      " [  0.    0.  120.1   0.   97.8   0.    0.3   0.  108.9  15.6  70.6  15.7\n",
      "   36.7   9.9   0.   29.2   0.   15.2   0.   33.5  20.9   0.   71.    0.\n",
      "   24.7  84.4   0. ]\n",
      " [105.4   0.    8.2  31.    0.   39.5 121.9   0.   39.4   0.   92.9   0.\n",
      "   55.4  30.6   0.   39.1  68.   48.8   0.    0.  105.3  18.2   0.    4.6\n",
      "    5.1  47.5  18.7]\n",
      " [ 85.9   0.    0.   24.7   0.    0.    0.   76.9  63.1   0.    0.   31.9\n",
      "   22.5   0.   48.   53.1   0.   53.1   0.    0.   36.4   2.4  30.    0.\n",
      "   65.9   0.    0. ]\n",
      " [  8.   19.7  57.8  33.7  34.1  67.2   0.   20.4   0.   75.    0.    0.\n",
      "   84.9   0.    0.   23.4  48.   78.3  10.2  33.9   2.8  82.4  40.3   0.\n",
      "    3.3  83.7  33.4]\n",
      " [ 67.4   0.   69.9  38.1   3.    0.   56.5   0.    0.   64.3   0.    0.\n",
      "   75.2   0.    0.   60.3   0.    0.    4.5   0.   43.5   0.    4.7  27.6\n",
      "    3.9  10.4   0. ]\n",
      " [  0.    0.    0.   24.6 102.7   7.   83.2  64.    0.   58.2  32.3   0.\n",
      "   71.9  40.   47.5  50.7  34.3  62.6  15.6   0.  130.4  66.6   0.   33.1\n",
      "   28.1   0.  129.2]\n",
      " [  7.5  12.6   0.    0.    0.    0.    0.   19.8  37.4   0.   66.2  21.4\n",
      "    0.    0.    0.8  26.2  19.8  28.5   0.    0.    0.    0.    0.  114.5\n",
      "   66.7   0.   11.1]\n",
      " [ 80.5   0.   18.7  36.5   0.    0.   55.1  27.5   0.    0.   77.7  72.2\n",
      "   44.8   0.    0.   46.2   9.8   0.   21.1  26.4   2.7  35.3   0.    0.\n",
      "    0.   39.5   0. ]\n",
      " [ 81.3  59.7   0.  109.3  17.2   0.    0.   20.   29.6   0.   44.3   0.\n",
      "   50.1   1.7  24.6   0.   47.7  66.2   0.  120.2  69.9   0.   89.7  54.9\n",
      "    0.   10.8  11. ]\n",
      " [ 75.1  91.1   0.    0.  106.3  25.8   0.    0.   41.6   0.    0.    1.3\n",
      "    0.    0.  113.   56.8   0.   68.2   0.    0.   46.7   0.    0.   55.4\n",
      "    0.    0.   62.1]\n",
      " [  0.    6.1  86.7   0.   87.9  50.1   0.   38.5   0.   17.7  56.5   0.\n",
      "    4.9   0.   42.9  21.7   0.    0.   93.4  31.8  34.4  45.6  60.2  13.7\n",
      "    0.    0.   50.1]\n",
      " [ 64.    0.   19.7   0.   53.4  60.7  13.4   0.   55.3  40.    1.2 102.2\n",
      "   20.5  22.6   0.   49.2   0.    0.    0.   46.1   0.    0.   64.9  67.6\n",
      "    0.   55.6  22.8]\n",
      " [  9.   22.4  21.2   0.   41.7  74.3   0.  118.    0.   29.    0.   17.8\n",
      "    0.    0.   49.8  17.7   5.2  42.3   0.   18.1  57.4   0.    0.   56.6\n",
      "   27.4   0.   48.2]\n",
      " [  0.    0.   22.7   0.   62.9  54.9   0.    5.4  54.   40.1   0.   55.2\n",
      "   17.3  92.1  23.6   0.   31.2  24.9   0.   12.8  22.5   0.   15.9   0.\n",
      "   28.1  26.1  93.1]\n",
      " [ 99.1  12.1   0.    0.   27.9  65.4   0.    0.    0.   34.1   0.   23.4\n",
      "    0.    0.    0.   51.4   0.   26.   12.6   3.    0.    8.7   0.  102.1\n",
      "   72.4   0.    0. ]\n",
      " [  1.9 115.3  16.9   0.   45.8  26.   87.7   3.2  12.8  22.2  29.3   0.\n",
      "   18.8   5.    7.5  65.6   0.   69.5  88.3  57.   68.   39.2   0.    0.\n",
      "    0.   67.6  22.6]\n",
      " [  2.4 111.8  64.    0.   77.2   0.   31.2  98.7  78.7   0.   39.5   7.7\n",
      "   54.8   0.   22.6   0.    0.   10.2  44.9   7.5  67.3  23.1  13.1  46.4\n",
      "    0.   37.2   0. ]]\n",
      "\n",
      "Shape after ReLU: (27, 27)\n"
     ]
    }
   ],
   "source": [
    "# Activation function (ReLU)\n",
    "A = np.maximum(0, Z)\n",
    "print(\"Output after ReLU (Z):\\n\", A)\n",
    "print(\"\\nShape after ReLU:\", A.shape)"
   ]
  },
  {
   "cell_type": "code",
   "execution_count": 24,
   "id": "fe1fe4c5",
   "metadata": {},
   "outputs": [
    {
     "name": "stdout",
     "output_type": "stream",
     "text": [
      "Output after max-pooling layer (P):\n",
      " [[ 55.5   0.   42.9   0.   70.4   0.   34.    0.   87.3   0.   16.7   0.\n",
      "   56.6]\n",
      " [  0.    0.    0.    0.    0.    0.    0.    0.    0.    0.    0.    0.\n",
      "    0. ]\n",
      " [ 39.3   0.   77.8   0.   79.6   0.   59.2   0.  101.1   0.   72.9   0.\n",
      "   33.1]\n",
      " [  0.    0.    0.    0.    0.    0.    0.    0.    0.    0.    0.    0.\n",
      "    0. ]\n",
      " [ 69.8   0.   80.    0.   49.8   0.   67.7   0.   32.6   0.   46.8   0.\n",
      "   40.5]\n",
      " [  0.    0.    0.    0.    0.    0.    0.    0.    0.    0.    0.    0.\n",
      "    0. ]\n",
      " [ 87.2   0.   37.8   0.   61.5   0.   50.2   0.   48.6   0.   30.9   0.\n",
      "   39.5]\n",
      " [  0.    0.    0.    0.    0.    0.    0.    0.    0.    0.    0.    0.\n",
      "    0. ]\n",
      " [ 69.2   0.   93.6   0.   60.    0.   54.2   0.   72.6   0.   71.6   0.\n",
      "   31.9]\n",
      " [  0.    0.    0.    0.    0.    0.    0.    0.    0.    0.    0.    0.\n",
      "    0. ]\n",
      " [105.4   0.  120.1   0.   97.8   0.  121.9   0.  108.9   0.   92.9   0.\n",
      "   55.4]\n",
      " [  0.    0.    0.    0.    0.    0.    0.    0.    0.    0.    0.    0.\n",
      "    0. ]\n",
      " [ 85.9   0.   57.8   0.   67.2   0.   76.9   0.   75.    0.   31.9   0.\n",
      "   84.9]]\n",
      "\n",
      "Shape after max-pooling layer: (13, 13)\n"
     ]
    }
   ],
   "source": [
    "# MaxPool 2x2 layer\n",
    "pool_size = 2\n",
    "pool_stride = 2\n",
    "\n",
    "# Calculate the output size\n",
    "H_out = (A.shape[0] - pool_size) // pool_stride + 1\n",
    "W_out = (A.shape[1] - pool_size) // pool_stride + 1\n",
    "\n",
    "# Do the pooling operation\n",
    "P = np.zeros((H_out, W_out))\n",
    "for i in range(0, H_out, pool_stride):\n",
    "    for j in range(0, W_out, pool_stride):\n",
    "        pool_region = A[i:i+pool_size, j:j+pool_size]\n",
    "        P[i, j] = np.max(pool_region)\n",
    "        \n",
    "print(\"Output after max-pooling layer (P):\\n\", P)\n",
    "print(\"\\nShape after max-pooling layer:\", P.shape)"
   ]
  },
  {
   "cell_type": "markdown",
   "id": "17e4d4e0",
   "metadata": {},
   "source": [
    "### Backward pass?"
   ]
  },
  {
   "cell_type": "code",
   "execution_count": 25,
   "id": "8d0170ac",
   "metadata": {},
   "outputs": [],
   "source": [
    "# Write your code for convolutional layer's backward pass here"
   ]
  },
  {
   "cell_type": "markdown",
   "id": "7b34647b",
   "metadata": {},
   "source": [
    "### CNN for image classification\n"
   ]
  },
  {
   "cell_type": "code",
   "execution_count": 26,
   "id": "e85629c2",
   "metadata": {},
   "outputs": [],
   "source": [
    "transform = transforms.ToTensor()\n",
    "\n",
    "train_data = datasets.MNIST(root=\"./data\", train=True, download=False, transform=transform)\n",
    "train_loader = torch.utils.data.DataLoader(train_data, batch_size=1, shuffle=True)"
   ]
  },
  {
   "cell_type": "code",
   "execution_count": 27,
   "id": "e16e4f9e",
   "metadata": {},
   "outputs": [],
   "source": [
    "class CNN(nn.Module):\n",
    "    def __init__(self):\n",
    "        super(CNN, self).__init__()\n",
    "        self.conv1 = nn.Conv2d(in_channels=1, out_channels=32, kernel_size=3, stride=1, padding=1)\n",
    "        self.conv2 = nn.Conv2d(in_channels=32, out_channels=64, kernel_size=3, stride=1, padding=1)\n",
    "        self.pool = nn.MaxPool2d(kernel_size=2, stride=2)\n",
    "        self.relu = nn.ReLU()\n",
    "        self.fc1 = nn.Linear(64 * 7 * 7, 128)\n",
    "        self.fc2 = nn.Linear(128, 10)\n",
    "\n",
    "    def forward(self, x):\n",
    "        x = self.conv1(x)\n",
    "        x = self.relu(x)\n",
    "        x = self.pool(x)\n",
    "        x = self.conv2(x)\n",
    "        x = self.relu(x)\n",
    "        x = self.pool(x)\n",
    "        x = x.view(x.size(0), -1)  # Flattening\n",
    "        x = self.fc1(x)\n",
    "        x = self.relu(x)\n",
    "        x = self.fc2(x)\n",
    "\n",
    "        return x"
   ]
  },
  {
   "cell_type": "code",
   "execution_count": 28,
   "id": "7637a38d",
   "metadata": {},
   "outputs": [
    {
     "name": "stdout",
     "output_type": "stream",
     "text": [
      "Epoch 1, Loss = 6931.3123\n",
      "Epoch 2, Loss = 3409.1153\n",
      "Epoch 3, Loss = 2958.1330\n",
      "Epoch 4, Loss = 2672.1357\n",
      "Epoch 5, Loss = 2719.3486\n",
      "Epoch 6, Loss = 2654.9147\n",
      "Epoch 7, Loss = 2494.6995\n",
      "Epoch 8, Loss = 2442.0844\n",
      "Epoch 9, Loss = 2353.1452\n",
      "Epoch 10, Loss = 2082.6967\n"
     ]
    }
   ],
   "source": [
    "device = \"cuda\" if torch.cuda.is_available() else \"cpu\"\n",
    "\n",
    "model = CNN().to(device)\n",
    "\n",
    "criterion = nn.CrossEntropyLoss()\n",
    "optimizer = optim.Adam(model.parameters(), lr=0.001)\n",
    "\n",
    "for epoch in range(10):\n",
    "    model.train()\n",
    "    total_loss = 0\n",
    "\n",
    "    for images, labels in train_loader:\n",
    "        images, labels = images.to(device), labels.to(device)\n",
    "        \n",
    "        optimizer.zero_grad()\n",
    "\n",
    "        # Forward pass\n",
    "        preds = model(images)\n",
    "        loss = criterion(preds, labels)\n",
    "\n",
    "        # Backward pass\n",
    "        loss.backward()\n",
    "\n",
    "        # Update the weights and biases\n",
    "        optimizer.step()\n",
    "\n",
    "        total_loss += loss.item()\n",
    "\n",
    "    print(f\"Epoch {epoch+1}, Loss = {total_loss:.4f}\")"
   ]
  },
  {
   "cell_type": "code",
   "execution_count": 29,
   "id": "f5697396",
   "metadata": {},
   "outputs": [
    {
     "data": {
      "image/png": "[encoded data removed]",
      "text/plain": [
       "<Figure size 1200x400 with 5 Axes>"
      ]
     },
     "metadata": {},
     "output_type": "display_data"
    }
   ],
   "source": [
    "test_data = datasets.MNIST(root=\"./data\", train=False, download=False, transform=transform)\n",
    "test_loader = torch.utils.data.DataLoader(test_data, batch_size=5, shuffle=False)\n",
    "\n",
    "model.eval()\n",
    "\n",
    "# Get the first 5 test images and labels\n",
    "images, labels = next(iter(test_loader))\n",
    "\n",
    "images = images.to(device)\n",
    "labels = labels.to(device)\n",
    "\n",
    "# Get predictions\n",
    "with torch.no_grad():\n",
    "    outputs = model(images)\n",
    "    _, preds = torch.max(outputs, 1)\n",
    "\n",
    "plt.figure(figsize=(12, 4))\n",
    "for i in range(5):\n",
    "    plt.subplot(1, 5, i + 1)\n",
    "    plt.imshow(images[i].cpu().squeeze(), cmap=\"gray\")\n",
    "    plt.title(f\"True: {labels[i].item()}\\nPred: {preds[i].item()}\")\n",
    "    plt.axis(\"off\")\n",
    "\n",
    "plt.show()"
   ]
  },
  {
   "cell_type": "code",
   "execution_count": null,
   "id": "dde06210",
   "metadata": {},
   "outputs": [],
   "source": []
  }
 ],
 "metadata": {
  "kernelspec": {
   "display_name": ".venv",
   "language": "python",
   "name": "python3"
  },
  "language_info": {
   "codemirror_mode": {
    "name": "ipython",
    "version": 3
   },
   "file_extension": ".py",
   "mimetype": "text/x-python",
   "name": "python",
   "nbconvert_exporter": "python",
   "pygments_lexer": "ipython3",
   "version": "3.10.11"
  }
 },
 "nbformat": 4,
 "nbformat_minor": 5
}
